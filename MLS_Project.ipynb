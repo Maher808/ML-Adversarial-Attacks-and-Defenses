{
  "cells": [
    {
      "cell_type": "markdown",
      "metadata": {
        "id": "aWr-TXgXs0uI"
      },
      "source": [
        "**Step 1: Import Library**"
      ]
    },
    {
      "cell_type": "code",
      "execution_count": 1,
      "metadata": {
        "colab": {
          "base_uri": "https://localhost:8080/"
        },
        "id": "WwluX-GeuayC",
        "outputId": "38bc6cc9-5cda-4072-bd06-1b0f85768e98"
      },
      "outputs": [
        {
          "output_type": "stream",
          "name": "stdout",
          "text": [
            "Collecting adversarial-robustness-toolbox\n",
            "  Downloading adversarial_robustness_toolbox-1.18.2-py3-none-any.whl.metadata (11 kB)\n",
            "Requirement already satisfied: numpy>=1.18.0 in /usr/local/lib/python3.10/dist-packages (from adversarial-robustness-toolbox) (1.26.4)\n",
            "Requirement already satisfied: scipy>=1.4.1 in /usr/local/lib/python3.10/dist-packages (from adversarial-robustness-toolbox) (1.13.1)\n",
            "Requirement already satisfied: scikit-learn>=0.22.2 in /usr/local/lib/python3.10/dist-packages (from adversarial-robustness-toolbox) (1.5.2)\n",
            "Requirement already satisfied: six in /usr/local/lib/python3.10/dist-packages (from adversarial-robustness-toolbox) (1.16.0)\n",
            "Requirement already satisfied: setuptools in /usr/local/lib/python3.10/dist-packages (from adversarial-robustness-toolbox) (75.1.0)\n",
            "Requirement already satisfied: tqdm in /usr/local/lib/python3.10/dist-packages (from adversarial-robustness-toolbox) (4.66.6)\n",
            "Requirement already satisfied: joblib>=1.2.0 in /usr/local/lib/python3.10/dist-packages (from scikit-learn>=0.22.2->adversarial-robustness-toolbox) (1.4.2)\n",
            "Requirement already satisfied: threadpoolctl>=3.1.0 in /usr/local/lib/python3.10/dist-packages (from scikit-learn>=0.22.2->adversarial-robustness-toolbox) (3.5.0)\n",
            "Downloading adversarial_robustness_toolbox-1.18.2-py3-none-any.whl (1.7 MB)\n",
            "\u001b[2K   \u001b[90m━━━━━━━━━━━━━━━━━━━━━━━━━━━━━━━━━━━━━━━━\u001b[0m \u001b[32m1.7/1.7 MB\u001b[0m \u001b[31m32.8 MB/s\u001b[0m eta \u001b[36m0:00:00\u001b[0m\n",
            "\u001b[?25hInstalling collected packages: adversarial-robustness-toolbox\n",
            "Successfully installed adversarial-robustness-toolbox-1.18.2\n"
          ]
        }
      ],
      "source": [
        "!pip install adversarial-robustness-toolbox"
      ]
    },
    {
      "cell_type": "code",
      "execution_count": 2,
      "metadata": {
        "id": "X4P_Jo8EsjUr"
      },
      "outputs": [],
      "source": [
        "import numpy as np\n",
        "import tensorflow as tf\n",
        "import matplotlib.pyplot as plt\n",
        "from tensorflow.keras.datasets import mnist\n",
        "from sklearn.metrics import accuracy_score\n",
        "from art.attacks.evasion import DeepFool, FastGradientMethod, ProjectedGradientDescent\n",
        "from tensorflow.keras.models import Sequential\n",
        "from tensorflow.keras.utils import to_categorical\n",
        "from tensorflow.keras.layers import Conv2D, MaxPooling2D, Flatten, Dense, Dropout\n",
        "from tensorflow.keras.callbacks import EarlyStopping, ReduceLROnPlateau\n",
        "from tensorflow.keras.preprocessing.image import ImageDataGenerator\n",
        "from art.estimators.classification import TensorFlowV2Classifier\n",
        "from art.defences.trainer import AdversarialTrainer"
      ]
    },
    {
      "cell_type": "markdown",
      "metadata": {
        "id": "vBjBIizyzXhq"
      },
      "source": [
        "**Step 2: Load and Preprocess the Dataset**"
      ]
    },
    {
      "cell_type": "code",
      "execution_count": 3,
      "metadata": {
        "colab": {
          "base_uri": "https://localhost:8080/"
        },
        "id": "QeDs1inrsnFX",
        "outputId": "c3862f1f-ca39-4e61-98db-01bb0c49d528"
      },
      "outputs": [
        {
          "output_type": "stream",
          "name": "stdout",
          "text": [
            "Downloading data from https://storage.googleapis.com/tensorflow/tf-keras-datasets/mnist.npz\n",
            "\u001b[1m11490434/11490434\u001b[0m \u001b[32m━━━━━━━━━━━━━━━━━━━━\u001b[0m\u001b[37m\u001b[0m \u001b[1m2s\u001b[0m 0us/step\n"
          ]
        }
      ],
      "source": [
        "# 1. Load and preprocess the dataset\n",
        "(x_train, y_train), (x_test, y_test) = mnist.load_data()\n",
        "\n",
        "# Shuffle the training data (optional but recommended)\n",
        "shuffle_idx = np.random.permutation(len(x_train))\n",
        "x_train = x_train[shuffle_idx]\n",
        "y_train = y_train[shuffle_idx]\n"
      ]
    },
    {
      "cell_type": "code",
      "execution_count": 4,
      "metadata": {
        "id": "pLeLoFZasnIM"
      },
      "outputs": [],
      "source": [
        "# Reshape data for the model input\n",
        "x_train = np.expand_dims(x_train, -1)\n",
        "x_test = np.expand_dims(x_test, -1)\n",
        "\n",
        "# Normalize pixel values to range [0, 1]\n",
        "x_train = x_train.astype('float32') / 255.0\n",
        "x_test = x_test.astype('float32') / 255.0\n",
        "\n",
        "# One-hot encode labels\n",
        "y_train = to_categorical(y_train, 10)\n",
        "y_test = to_categorical(y_test, 10)"
      ]
    },
    {
      "cell_type": "code",
      "execution_count": 5,
      "metadata": {
        "id": "eA5YO7ZjsnKx"
      },
      "outputs": [],
      "source": [
        "# Split into training, validation, and testing sets\n",
        "x_val, y_val = x_train[-10000:], y_train[-10000:]\n",
        "x_train, y_train = x_train[:-10000], y_train[:-10000]"
      ]
    },
    {
      "cell_type": "code",
      "execution_count": 6,
      "metadata": {
        "id": "zRK0PgLywtKU"
      },
      "outputs": [],
      "source": [
        "# Data Augmentation\n",
        "datagen = ImageDataGenerator(\n",
        "    rotation_range=10,\n",
        "    zoom_range=0.1,\n",
        "    width_shift_range=0.1,\n",
        "    height_shift_range=0.1\n",
        ")\n",
        "datagen.fit(x_train)"
      ]
    },
    {
      "cell_type": "code",
      "execution_count": 7,
      "metadata": {
        "colab": {
          "base_uri": "https://localhost:8080/",
          "height": 249
        },
        "id": "ooygoi2mxtkI",
        "outputId": "350e17a4-850b-4c3e-c948-95eeeb06bbdb"
      },
      "outputs": [
        {
          "output_type": "display_data",
          "data": {
            "text/plain": [
              "<Figure size 1000x300 with 5 Axes>"
            ],
            "image/png": "[encoded data removed]"
          },
          "metadata": {}
        }
      ],
      "source": [
        "# Visualize sample images\n",
        "fig, axes = plt.subplots(1, 5, figsize=(10, 3))\n",
        "for i in range(5):\n",
        "    axes[i].imshow(x_train[i].reshape(28, 28), cmap='gray')\n",
        "    axes[i].axis('off')\n",
        "plt.suptitle(\"Sample Images from the MNIST Dataset\")\n",
        "plt.show()"
      ]
    },
    {
      "cell_type": "markdown",
      "metadata": {
        "id": "Yv8s2fmPtFJp"
      },
      "source": [
        "**Step 3: Build and Train a CNN Model**"
      ]
    },
    {
      "cell_type": "code",
      "execution_count": 8,
      "metadata": {
        "id": "6-i6X75osnNe",
        "colab": {
          "base_uri": "https://localhost:8080/"
        },
        "outputId": "79387e28-0687-40ee-d916-cf54213d2177"
      },
      "outputs": [
        {
          "output_type": "stream",
          "name": "stderr",
          "text": [
            "/usr/local/lib/python3.10/dist-packages/keras/src/layers/convolutional/base_conv.py:107: UserWarning: Do not pass an `input_shape`/`input_dim` argument to a layer. When using Sequential models, prefer using an `Input(shape)` object as the first layer in the model instead.\n",
            "  super().__init__(activity_regularizer=activity_regularizer, **kwargs)\n"
          ]
        }
      ],
      "source": [
        "# Define the CNN model\n",
        "from tensorflow.keras.layers import BatchNormalization\n",
        "model = Sequential([\n",
        "    Conv2D(32, (5, 5), activation='relu', input_shape=(28, 28, 1)),\n",
        "    BatchNormalization(),\n",
        "    Conv2D(64, (3, 3), activation='relu'),\n",
        "    BatchNormalization(),\n",
        "    MaxPooling2D((2, 2)),\n",
        "    Dropout(0.25),\n",
        "    Conv2D(128, (3, 3), activation='relu'),\n",
        "    BatchNormalization(),\n",
        "    MaxPooling2D((2, 2)),\n",
        "    Flatten(),\n",
        "    Dense(256, activation='relu'),\n",
        "    Dropout(0.5),\n",
        "    Dense(10, activation='softmax')\n",
        "])"
      ]
    },
    {
      "cell_type": "code",
      "execution_count": 9,
      "metadata": {
        "id": "IXkjb8QisnP4"
      },
      "outputs": [],
      "source": [
        "# Compile the model\n",
        "model.compile(optimizer='adam', loss='categorical_crossentropy', metrics=['accuracy'])"
      ]
    },
    {
      "cell_type": "code",
      "execution_count": 10,
      "metadata": {
        "id": "PDXjPFqHw3Mz"
      },
      "outputs": [],
      "source": [
        "# Early stopping and learning rate reduction\n",
        "early_stopping = EarlyStopping(monitor='val_accuracy', patience=5, restore_best_weights=True)\n",
        "reduce_lr = ReduceLROnPlateau(monitor='val_accuracy', factor=0.5, patience=3, min_lr=1e-5)"
      ]
    },
    {
      "cell_type": "code",
      "execution_count": 11,
      "metadata": {
        "colab": {
          "base_uri": "https://localhost:8080/"
        },
        "id": "O-wtaGbQ1dn6",
        "outputId": "39d00abe-fc1e-4740-eb31-ff9411df2204"
      },
      "outputs": [
        {
          "output_type": "stream",
          "name": "stdout",
          "text": [
            "Epoch 1/10\n"
          ]
        },
        {
          "output_type": "stream",
          "name": "stderr",
          "text": [
            "/usr/local/lib/python3.10/dist-packages/keras/src/trainers/data_adapters/py_dataset_adapter.py:121: UserWarning: Your `PyDataset` class should call `super().__init__(**kwargs)` in its constructor. `**kwargs` can include `workers`, `use_multiprocessing`, `max_queue_size`. Do not pass these arguments to `fit()`, as they will be ignored.\n",
            "  self._warn_if_super_not_called()\n"
          ]
        },
        {
          "output_type": "stream",
          "name": "stdout",
          "text": [
            "\u001b[1m782/782\u001b[0m \u001b[32m━━━━━━━━━━━━━━━━━━━━\u001b[0m\u001b[37m\u001b[0m \u001b[1m44s\u001b[0m 37ms/step - accuracy: 0.7836 - loss: 0.7405 - val_accuracy: 0.9806 - val_loss: 0.0610 - learning_rate: 0.0010\n",
            "Epoch 2/10\n",
            "\u001b[1m782/782\u001b[0m \u001b[32m━━━━━━━━━━━━━━━━━━━━\u001b[0m\u001b[37m\u001b[0m \u001b[1m24s\u001b[0m 29ms/step - accuracy: 0.9497 - loss: 0.1695 - val_accuracy: 0.9865 - val_loss: 0.0442 - learning_rate: 0.0010\n",
            "Epoch 3/10\n",
            "\u001b[1m782/782\u001b[0m \u001b[32m━━━━━━━━━━━━━━━━━━━━\u001b[0m\u001b[37m\u001b[0m \u001b[1m39s\u001b[0m 26ms/step - accuracy: 0.9637 - loss: 0.1265 - val_accuracy: 0.9904 - val_loss: 0.0388 - learning_rate: 0.0010\n",
            "Epoch 4/10\n",
            "\u001b[1m782/782\u001b[0m \u001b[32m━━━━━━━━━━━━━━━━━━━━\u001b[0m\u001b[37m\u001b[0m \u001b[1m21s\u001b[0m 27ms/step - accuracy: 0.9687 - loss: 0.1085 - val_accuracy: 0.9855 - val_loss: 0.0491 - learning_rate: 0.0010\n",
            "Epoch 5/10\n",
            "\u001b[1m782/782\u001b[0m \u001b[32m━━━━━━━━━━━━━━━━━━━━\u001b[0m\u001b[37m\u001b[0m \u001b[1m20s\u001b[0m 25ms/step - accuracy: 0.9719 - loss: 0.0958 - val_accuracy: 0.9904 - val_loss: 0.0359 - learning_rate: 0.0010\n",
            "Epoch 6/10\n",
            "\u001b[1m782/782\u001b[0m \u001b[32m━━━━━━━━━━━━━━━━━━━━\u001b[0m\u001b[37m\u001b[0m \u001b[1m22s\u001b[0m 28ms/step - accuracy: 0.9746 - loss: 0.0911 - val_accuracy: 0.9907 - val_loss: 0.0308 - learning_rate: 0.0010\n",
            "Epoch 7/10\n",
            "\u001b[1m782/782\u001b[0m \u001b[32m━━━━━━━━━━━━━━━━━━━━\u001b[0m\u001b[37m\u001b[0m \u001b[1m21s\u001b[0m 27ms/step - accuracy: 0.9782 - loss: 0.0827 - val_accuracy: 0.9917 - val_loss: 0.0327 - learning_rate: 0.0010\n",
            "Epoch 8/10\n",
            "\u001b[1m782/782\u001b[0m \u001b[32m━━━━━━━━━━━━━━━━━━━━\u001b[0m\u001b[37m\u001b[0m \u001b[1m21s\u001b[0m 26ms/step - accuracy: 0.9782 - loss: 0.0730 - val_accuracy: 0.9915 - val_loss: 0.0305 - learning_rate: 0.0010\n",
            "Epoch 9/10\n",
            "\u001b[1m782/782\u001b[0m \u001b[32m━━━━━━━━━━━━━━━━━━━━\u001b[0m\u001b[37m\u001b[0m \u001b[1m41s\u001b[0m 27ms/step - accuracy: 0.9805 - loss: 0.0686 - val_accuracy: 0.9922 - val_loss: 0.0259 - learning_rate: 0.0010\n",
            "Epoch 10/10\n",
            "\u001b[1m782/782\u001b[0m \u001b[32m━━━━━━━━━━━━━━━━━━━━\u001b[0m\u001b[37m\u001b[0m \u001b[1m21s\u001b[0m 26ms/step - accuracy: 0.9800 - loss: 0.0725 - val_accuracy: 0.9919 - val_loss: 0.0291 - learning_rate: 0.0010\n"
          ]
        }
      ],
      "source": [
        "# Train the model with data augmentation\n",
        "history = model.fit(\n",
        "    datagen.flow(x_train, y_train, batch_size=64),\n",
        "    validation_data=(x_val, y_val),\n",
        "    epochs=10,\n",
        "    callbacks=[early_stopping, reduce_lr]\n",
        ")"
      ]
    },
    {
      "cell_type": "code",
      "execution_count": 12,
      "metadata": {
        "colab": {
          "base_uri": "https://localhost:8080/"
        },
        "id": "J5No_1Ut8q-r",
        "outputId": "3b9d1c2f-7190-4551-9202-a64a07a39c47"
      },
      "outputs": [
        {
          "output_type": "stream",
          "name": "stdout",
          "text": [
            "Model accuracy on clean test data: 0.9939\n"
          ]
        }
      ],
      "source": [
        "# Evaluate the model on clean test data\n",
        "clean_accuracy = model.evaluate(x_test, y_test, verbose=0)\n",
        "print(f\"Model accuracy on clean test data: {clean_accuracy[1]:.4f}\")"
      ]
    },
    {
      "cell_type": "markdown",
      "metadata": {
        "id": "_1Z0JzDZ1i5m"
      },
      "source": [
        "**Step 4: Visualize Training Progress**"
      ]
    },
    {
      "cell_type": "code",
      "execution_count": 13,
      "metadata": {
        "colab": {
          "base_uri": "https://localhost:8080/",
          "height": 487
        },
        "id": "9kiMkkc3xzRs",
        "outputId": "3b0b26dc-df8d-4f3f-e3cd-39dfcf2e2ad2"
      },
      "outputs": [
        {
          "output_type": "display_data",
          "data": {
            "text/plain": [
              "<Figure size 1000x500 with 1 Axes>"
            ],
            "image/png": "[encoded data removed]"
          },
          "metadata": {}
        }
      ],
      "source": [
        "# Plot training and validation accuracy\n",
        "plt.figure(figsize=(10, 5))\n",
        "plt.plot(history.history['accuracy'], label='Training Accuracy')\n",
        "plt.plot(history.history['val_accuracy'], label='Validation Accuracy')\n",
        "plt.title('Model Accuracy')\n",
        "plt.xlabel('Epoch')\n",
        "plt.ylabel('Accuracy')\n",
        "plt.legend()\n",
        "plt.grid(True)\n",
        "plt.show()"
      ]
    },
    {
      "cell_type": "code",
      "execution_count": 14,
      "metadata": {
        "colab": {
          "base_uri": "https://localhost:8080/",
          "height": 487
        },
        "id": "CZU52Zk62FfR",
        "outputId": "e462bc91-0e22-40d6-987d-e1f691485815"
      },
      "outputs": [
        {
          "output_type": "display_data",
          "data": {
            "text/plain": [
              "<Figure size 1000x500 with 1 Axes>"
            ],
            "image/png": "[encoded data removed]"
          },
          "metadata": {}
        }
      ],
      "source": [
        "# Plot training and validation loss\n",
        "plt.figure(figsize=(10, 5))\n",
        "plt.plot(history.history['loss'], label='Training Loss')\n",
        "plt.plot(history.history['val_loss'], label='Validation Loss')\n",
        "plt.title('Model Loss')\n",
        "plt.xlabel('Epoch')\n",
        "plt.ylabel('Loss')\n",
        "plt.legend()\n",
        "plt.grid(True)\n",
        "plt.show()"
      ]
    },
    {
      "cell_type": "markdown",
      "metadata": {
        "id": "wSPFYN9w1wsO"
      },
      "source": [
        "**Step 5: Generate Adversarial Examples using FGSM and PGD**"
      ]
    },
    {
      "cell_type": "code",
      "execution_count": 15,
      "metadata": {
        "id": "7S_l-lTvsnXV"
      },
      "outputs": [],
      "source": [
        "# # Create a TensorFlowV2Classifier for the ART library\n",
        "# classifier = TensorFlowV2Classifier(\n",
        "#     model=model,\n",
        "#     nb_classes=10,\n",
        "#     input_shape=(28, 28, 1),\n",
        "#     loss_object=tf.keras.losses.CategoricalCrossentropy()\n",
        "# )\n",
        "\n",
        "classifier = TensorFlowV2Classifier(\n",
        "    model=model,\n",
        "    nb_classes=10,\n",
        "    input_shape=(28, 28, 1),\n",
        "    loss_object=tf.keras.losses.CategoricalCrossentropy(),\n",
        "    clip_values=(0.0, 1.0),  # Ensure input values are within [0, 1]\n",
        "    optimizer=model.optimizer\n",
        ")"
      ]
    },
    {
      "cell_type": "code",
      "execution_count": 16,
      "metadata": {
        "colab": {
          "base_uri": "https://localhost:8080/",
          "height": 17,
          "referenced_widgets": [
            "8d6fe5a84db94089b5dfd95d3c917169",
            "bddf703542864e96a0cf6b88f4e9210b",
            "38fee914a4ee4713812b7973de5f5df0",
            "2fb05ff0a0674d328c7f966dfeee6597",
            "87280ec057fd43ac801a17bfedbbd69e",
            "b364afccfbfe4ef9bcbbb1ad55ef8834",
            "0a5a020aeafb48ec8087ffc6142c7fd3",
            "913d43faf80f47c2b111a3d63e631edc",
            "504b569ffd1d41299ef1b1363849bf32",
            "84d9423747614280b8534d20df15de45",
            "1667157e766c41e992b35774c83608eb"
          ]
        },
        "id": "Vkpimoqe12_C",
        "outputId": "b4c5254e-ebe3-4def-a9a4-ec3d9ad3bc8c"
      },
      "outputs": [
        {
          "output_type": "display_data",
          "data": {
            "text/plain": [
              "PGD - Batches: 0it [00:00, ?it/s]"
            ],
            "application/vnd.jupyter.widget-view+json": {
              "version_major": 2,
              "version_minor": 0,
              "model_id": "8d6fe5a84db94089b5dfd95d3c917169"
            }
          },
          "metadata": {}
        }
      ],
      "source": [
        "# Generate adversarial examples using FGSM\n",
        "fgsm_attack = FastGradientMethod(estimator=classifier, eps=0.1)\n",
        "x_test_adv_fgsm = fgsm_attack.generate(x=x_test, batch_size=32)\n",
        "\n",
        "# Generate adversarial examples using PGD\n",
        "pgd_attack = ProjectedGradientDescent(estimator=classifier, eps=0.1)\n",
        "x_test_adv_pgd = pgd_attack.generate(x=x_test, batch_size=32)\n"
      ]
    },
    {
      "cell_type": "code",
      "execution_count": 17,
      "metadata": {
        "colab": {
          "base_uri": "https://localhost:8080/"
        },
        "id": "am2jE2KT9Agq",
        "outputId": "5a65d896-16f3-4591-9d79-665ce9dfb29a"
      },
      "outputs": [
        {
          "output_type": "stream",
          "name": "stdout",
          "text": [
            "Model accuracy on FGSM adversarial data: 0.6836\n",
            "Model accuracy on PGD adversarial data: 0.3159\n"
          ]
        }
      ],
      "source": [
        "# # Evaluate the model on adversarial examples\n",
        "# fgsm_accuracy = model.evaluate(x_test_adv_fgsm, y_test, verbose=0)\n",
        "# pgd_accuracy = model.evaluate(x_test_adv_pgd, y_test, verbose=0)\n",
        "# print(f\"Model accuracy on FGSM adversarial data: {fgsm_accuracy[1]:.4f}\")\n",
        "# print(f\"Model accuracy on PGD adversarial data: {pgd_accuracy[1]:.4f}\")\n",
        "\n",
        "fgsm_accuracy = model.evaluate(x_test_adv_fgsm, y_test, verbose=0)\n",
        "print(f\"Model accuracy on FGSM adversarial data: {fgsm_accuracy[1]:.4f}\")\n",
        "\n",
        "# Evaluate the model on PGD adversarial examples\n",
        "pgd_accuracy = model.evaluate(x_test_adv_pgd, y_test, verbose=0)\n",
        "print(f\"Model accuracy on PGD adversarial data: {pgd_accuracy[1]:.4f}\")\n"
      ]
    },
    {
      "cell_type": "code",
      "execution_count": 18,
      "metadata": {
        "colab": {
          "base_uri": "https://localhost:8080/",
          "height": 367
        },
        "id": "XlkuBv3G2wko",
        "outputId": "2599ba66-6356-4270-a8ff-921cfd9d0678"
      },
      "outputs": [
        {
          "output_type": "display_data",
          "data": {
            "text/plain": [
              "<Figure size 1200x400 with 3 Axes>"
            ],
            "image/png": "[encoded data removed]"
          },
          "metadata": {}
        }
      ],
      "source": [
        "# optional Visualize some of the generated adversarial examples\n",
        "fig, axes = plt.subplots(1, 3, figsize=(12, 4))\n",
        "# Original image\n",
        "axes[0].imshow(x_test[0].reshape(28, 28), cmap='gray')\n",
        "axes[0].set_title(\"Original Image\")\n",
        "axes[0].axis('off')\n",
        "\n",
        "# FGSM adversarial image\n",
        "axes[1].imshow(x_test_adv_fgsm[0].reshape(28, 28), cmap='gray')\n",
        "axes[1].set_title(\"FGSM Adversarial\")\n",
        "axes[1].axis('off')\n",
        "\n",
        "# PGD adversarial image\n",
        "axes[2].imshow(x_test_adv_pgd[0].reshape(28, 28), cmap='gray')\n",
        "axes[2].set_title(\"PGD Adversarial\")\n",
        "axes[2].axis('off')\n",
        "\n",
        "plt.suptitle(\"Adversarial Examples Generated Using FGSM and PGD\")\n",
        "plt.show()"
      ]
    },
    {
      "cell_type": "markdown",
      "metadata": {
        "id": "0C-DAB1dthuA"
      },
      "source": [
        "**Step 6: Data Poisoning - Inject Adversarial Examples into Training Set**"
      ]
    },
    {
      "cell_type": "code",
      "execution_count": 19,
      "metadata": {
        "id": "P80GFHvtsnZ0"
      },
      "outputs": [],
      "source": [
        "# Generate adversarial examples from the training set using FGSM\n",
        "x_train_adv = fgsm_attack.generate(x=x_train, batch_size=64)\n",
        "\n",
        "# Create a poisoned training set by combining original and adversarial examples\n",
        "x_train_poisoned = np.concatenate((x_train, x_train_adv))\n",
        "y_train_poisoned = np.concatenate((y_train, y_train))"
      ]
    },
    {
      "cell_type": "code",
      "execution_count": 20,
      "metadata": {
        "id": "v61QDvR33LQL"
      },
      "outputs": [],
      "source": [
        "# optional Shuffle the poisoned dataset\n",
        "shuffle_idx = np.random.permutation(len(x_train_poisoned))\n",
        "x_train_poisoned = x_train_poisoned[shuffle_idx]\n",
        "y_train_poisoned = y_train_poisoned[shuffle_idx]"
      ]
    },
    {
      "cell_type": "code",
      "execution_count": 21,
      "metadata": {
        "id": "Mjb2NZWb3PiF"
      },
      "outputs": [],
      "source": [
        "# optional Clone the original model and transfer weights\n",
        "model_poisoned = tf.keras.models.clone_model(model)\n",
        "model_poisoned.set_weights(model.get_weights())\n",
        "model_poisoned.compile(optimizer='adam', loss='categorical_crossentropy', metrics=['accuracy'])"
      ]
    },
    {
      "cell_type": "code",
      "execution_count": 22,
      "metadata": {
        "id": "iG2bK44R4cu5"
      },
      "outputs": [],
      "source": [
        "# Early stopping and learning rate reduction\n",
        "early_stopping = EarlyStopping(monitor='val_accuracy', patience=5, restore_best_weights=True)\n",
        "reduce_lr = ReduceLROnPlateau(monitor='val_accuracy', factor=0.5, patience=3, min_lr=1e-5)"
      ]
    },
    {
      "cell_type": "code",
      "execution_count": 23,
      "metadata": {
        "colab": {
          "base_uri": "https://localhost:8080/"
        },
        "id": "R5-cIuou9LOH",
        "outputId": "190e6829-dfac-4de6-e0c7-de9a61cb8736"
      },
      "outputs": [
        {
          "output_type": "stream",
          "name": "stdout",
          "text": [
            "Epoch 1/10\n",
            "\u001b[1m1563/1563\u001b[0m \u001b[32m━━━━━━━━━━━━━━━━━━━━\u001b[0m\u001b[37m\u001b[0m \u001b[1m20s\u001b[0m 9ms/step - accuracy: 0.9739 - loss: 0.0981 - val_accuracy: 0.9897 - val_loss: 0.0415 - learning_rate: 0.0010\n",
            "Epoch 2/10\n",
            "\u001b[1m1563/1563\u001b[0m \u001b[32m━━━━━━━━━━━━━━━━━━━━\u001b[0m\u001b[37m\u001b[0m \u001b[1m12s\u001b[0m 6ms/step - accuracy: 0.9886 - loss: 0.0401 - val_accuracy: 0.9923 - val_loss: 0.0339 - learning_rate: 0.0010\n",
            "Epoch 3/10\n",
            "\u001b[1m1563/1563\u001b[0m \u001b[32m━━━━━━━━━━━━━━━━━━━━\u001b[0m\u001b[37m\u001b[0m \u001b[1m8s\u001b[0m 5ms/step - accuracy: 0.9906 - loss: 0.0328 - val_accuracy: 0.9905 - val_loss: 0.0394 - learning_rate: 0.0010\n",
            "Epoch 4/10\n",
            "\u001b[1m1563/1563\u001b[0m \u001b[32m━━━━━━━━━━━━━━━━━━━━\u001b[0m\u001b[37m\u001b[0m \u001b[1m11s\u001b[0m 5ms/step - accuracy: 0.9923 - loss: 0.0261 - val_accuracy: 0.9929 - val_loss: 0.0319 - learning_rate: 0.0010\n",
            "Epoch 5/10\n",
            "\u001b[1m1563/1563\u001b[0m \u001b[32m━━━━━━━━━━━━━━━━━━━━\u001b[0m\u001b[37m\u001b[0m \u001b[1m9s\u001b[0m 6ms/step - accuracy: 0.9931 - loss: 0.0249 - val_accuracy: 0.9939 - val_loss: 0.0277 - learning_rate: 0.0010\n",
            "Epoch 6/10\n",
            "\u001b[1m1563/1563\u001b[0m \u001b[32m━━━━━━━━━━━━━━━━━━━━\u001b[0m\u001b[37m\u001b[0m \u001b[1m8s\u001b[0m 5ms/step - accuracy: 0.9937 - loss: 0.0229 - val_accuracy: 0.9922 - val_loss: 0.0299 - learning_rate: 0.0010\n",
            "Epoch 7/10\n",
            "\u001b[1m1563/1563\u001b[0m \u001b[32m━━━━━━━━━━━━━━━━━━━━\u001b[0m\u001b[37m\u001b[0m \u001b[1m8s\u001b[0m 5ms/step - accuracy: 0.9942 - loss: 0.0198 - val_accuracy: 0.9942 - val_loss: 0.0283 - learning_rate: 0.0010\n",
            "Epoch 8/10\n",
            "\u001b[1m1563/1563\u001b[0m \u001b[32m━━━━━━━━━━━━━━━━━━━━\u001b[0m\u001b[37m\u001b[0m \u001b[1m11s\u001b[0m 6ms/step - accuracy: 0.9950 - loss: 0.0185 - val_accuracy: 0.9940 - val_loss: 0.0290 - learning_rate: 0.0010\n",
            "Epoch 9/10\n",
            "\u001b[1m1563/1563\u001b[0m \u001b[32m━━━━━━━━━━━━━━━━━━━━\u001b[0m\u001b[37m\u001b[0m \u001b[1m9s\u001b[0m 6ms/step - accuracy: 0.9958 - loss: 0.0145 - val_accuracy: 0.9936 - val_loss: 0.0298 - learning_rate: 0.0010\n",
            "Epoch 10/10\n",
            "\u001b[1m1563/1563\u001b[0m \u001b[32m━━━━━━━━━━━━━━━━━━━━\u001b[0m\u001b[37m\u001b[0m \u001b[1m10s\u001b[0m 5ms/step - accuracy: 0.9956 - loss: 0.0153 - val_accuracy: 0.9934 - val_loss: 0.0341 - learning_rate: 0.0010\n"
          ]
        }
      ],
      "source": [
        "# # Retrain the model on poisoned training data\n",
        "# model_poisoned = tf.keras.models.clone_model(model)\n",
        "# model_poisoned.compile(optimizer='adam', loss='categorical_crossentropy', metrics=['accuracy'])\n",
        "# model_poisoned.fit(x_train_poisoned, y_train_poisoned, epochs=5, batch_size=64)\n",
        "\n",
        "# Retrain the model on poisoned training data with early stopping\n",
        "history_poisoned = model_poisoned.fit(\n",
        "    x_train_poisoned, y_train_poisoned,\n",
        "    validation_data=(x_val, y_val),\n",
        "    epochs=10,\n",
        "    batch_size=64,\n",
        "    callbacks=[early_stopping, reduce_lr]\n",
        ")"
      ]
    },
    {
      "cell_type": "code",
      "execution_count": 24,
      "metadata": {
        "id": "N6193wNvsncY",
        "colab": {
          "base_uri": "https://localhost:8080/",
          "height": 17,
          "referenced_widgets": [
            "4af02db7cab14d02aa1ff099da0482be",
            "b0e9707a93de4c30aa08324c420bc75d",
            "0f1e2bd0084e405fb80b572bf881306f",
            "5ada3287857c48ef8b04260a02d96202",
            "83c99180513b4e23ade7b409f0501903",
            "5ef5cde83e6b415e818b72986a6639ea",
            "55ee0a5248504b9f836aa7b53ee89879",
            "f816a7815316469baf433be158dc4496",
            "3fee9eca7f1e4a95b2b0659e0023947b",
            "921b8e4b0ff945b5bbdce42bede94042",
            "15349fa8601c4c9c9ccf0688a42cc916"
          ]
        },
        "outputId": "164800ae-6d32-4d39-b88a-bf54df5ac6ed"
      },
      "outputs": [
        {
          "output_type": "display_data",
          "data": {
            "text/plain": [
              "PGD - Batches: 0it [00:00, ?it/s]"
            ],
            "application/vnd.jupyter.widget-view+json": {
              "version_major": 2,
              "version_minor": 0,
              "model_id": "4af02db7cab14d02aa1ff099da0482be"
            }
          },
          "metadata": {}
        }
      ],
      "source": [
        "# # Evaluate the model on clean and poisoned test data\n",
        "# clean_accuracy_poisoned = model_poisoned.evaluate(x_test, y_test, verbose=0)\n",
        "# fgsm_accuracy_poisoned = model_poisoned.evaluate(x_test_adv_fgsm, y_test, verbose=0)\n",
        "# print(f\"Poisoned model accuracy on clean test data: {clean_accuracy_poisoned[1]:.4f}\")\n",
        "# print(f\"Poisoned model accuracy on FGSM adversarial data: {fgsm_accuracy_poisoned[1]:.4f}\")\n",
        "\n",
        "# Evaluate the model on clean and adversarial test data\n",
        "clean_accuracy_poisoned = model_poisoned.evaluate(x_test, y_test, verbose=0)\n",
        "fgsm_accuracy_poisoned = model_poisoned.evaluate(x_test_adv_fgsm, y_test, verbose=0)\n",
        "\n",
        "# Evaluate on PGD adversarial examples\n",
        "x_test_adv_pgd = pgd_attack.generate(x=x_test, batch_size=64)\n",
        "pgd_accuracy_poisoned = model_poisoned.evaluate(x_test_adv_pgd, y_test, verbose=0)"
      ]
    },
    {
      "cell_type": "code",
      "execution_count": 25,
      "metadata": {
        "id": "AFeTOyq-4lLs",
        "colab": {
          "base_uri": "https://localhost:8080/"
        },
        "outputId": "21758ae8-a7a6-464b-b0a6-47d36d5d580b"
      },
      "outputs": [
        {
          "output_type": "stream",
          "name": "stdout",
          "text": [
            "Poisoned model accuracy on clean test data: 0.9942\n",
            "Poisoned model accuracy on FGSM adversarial data: 0.9933\n",
            "Poisoned model accuracy on PGD adversarial data: 0.9925\n"
          ]
        }
      ],
      "source": [
        "# Print the evaluation results\n",
        "print(f\"Poisoned model accuracy on clean test data: {clean_accuracy_poisoned[1]:.4f}\")\n",
        "print(f\"Poisoned model accuracy on FGSM adversarial data: {fgsm_accuracy_poisoned[1]:.4f}\")\n",
        "print(f\"Poisoned model accuracy on PGD adversarial data: {pgd_accuracy_poisoned[1]:.4f}\")"
      ]
    },
    {
      "cell_type": "code",
      "execution_count": 26,
      "metadata": {
        "id": "YWwUqtbB34gw",
        "colab": {
          "base_uri": "https://localhost:8080/",
          "height": 487
        },
        "outputId": "3d188e7a-d868-443b-d6eb-d6857ce5bd3a"
      },
      "outputs": [
        {
          "output_type": "display_data",
          "data": {
            "text/plain": [
              "<Figure size 1000x500 with 1 Axes>"
            ],
            "image/png": "[encoded data removed]"
          },
          "metadata": {}
        }
      ],
      "source": [
        "# optional Visualize the training history\n",
        "plt.figure(figsize=(10, 5))\n",
        "plt.plot(history_poisoned.history['accuracy'], label='Training Accuracy')\n",
        "plt.plot(history_poisoned.history['val_accuracy'], label='Validation Accuracy')\n",
        "plt.title('Training Progress for Poisoned Model')\n",
        "plt.xlabel('Epoch')\n",
        "plt.ylabel('Accuracy')\n",
        "plt.legend()\n",
        "plt.grid(True)\n",
        "plt.show()"
      ]
    },
    {
      "cell_type": "markdown",
      "metadata": {
        "id": "PekSS8vsttmb"
      },
      "source": [
        "**Step 7: Apply Defense - Adversarial Training**"
      ]
    },
    {
      "cell_type": "code",
      "execution_count": 28,
      "metadata": {
        "id": "NwPai18v5H1a"
      },
      "outputs": [],
      "source": [
        "# Define the optimizer separately\n",
        "optimizer = tf.keras.optimizers.Adam()\n",
        "\n",
        "# Create TensorFlowV2Classifier with the correct optimizer\n",
        "classifier = TensorFlowV2Classifier(\n",
        "    model=model,\n",
        "    nb_classes=10,\n",
        "    input_shape=(28, 28, 1),\n",
        "    loss_object=tf.keras.losses.CategoricalCrossentropy(),\n",
        "    clip_values=(0.0, 1.0),  # Ensure inputs stay in the valid range\n",
        "    optimizer=optimizer  # Use the correct attribute here\n",
        ")\n"
      ]
    },
    {
      "cell_type": "code",
      "execution_count": null,
      "metadata": {
        "id": "wS10wHLLsnhU",
        "colab": {
          "base_uri": "https://localhost:8080/",
          "height": 49,
          "referenced_widgets": [
            "4252733223674c8c86c2dbc974ff325c",
            "8cc7495b55fa47debfb150934fffb3e1",
            "1cba6895ffbe41a4937a47cb7fde7e3d",
            "3ea45240290e4b418fab43daf570241d",
            "e61a3b7894504188a3601fb490e2d34c",
            "2bbcc302cc4848ab82962f730b49fad8",
            "72b13bbf9ed24feeb9b0fb9d9abf61f1",
            "5513df8b86884a45a75cf1e7b55958cd",
            "4228b63898b9473289038d3ec39cd60e",
            "837f70128faf468b95533b8ccf116ba1",
            "ff4ec02f34dc40249883ec72fc516e13"
          ]
        },
        "outputId": "9412ec4a-962a-4744-94d9-0ff18ecea140"
      },
      "outputs": [
        {
          "output_type": "display_data",
          "data": {
            "text/plain": [
              "Precompute adv samples:   0%|          | 0/2 [00:00<?, ?it/s]"
            ],
            "application/vnd.jupyter.widget-view+json": {
              "version_major": 2,
              "version_minor": 0,
              "model_id": "4252733223674c8c86c2dbc974ff325c"
            }
          },
          "metadata": {}
        }
      ],
      "source": [
        "# Apply adversarial training as a defense mechanism\n",
        "trainer = AdversarialTrainer(classifier, attacks=[fgsm_attack, pgd_attack], ratio=0.5)\n",
        "trainer.fit(x_train, y_train, nb_epochs=5, batch_size=64)\n",
        "\n",
        "# Get the defended classifier\n",
        "defended_classifier = trainer.get_classifier()\n",
        "\n",
        "# Convert one-hot encoded labels to integers for evaluation\n",
        "y_test_labels = np.argmax(y_test, axis=1)"
      ]
    },
    {
      "cell_type": "code",
      "execution_count": null,
      "metadata": {
        "id": "IQBayhlnsnjv"
      },
      "outputs": [],
      "source": [
        "# # Evaluate the defended model on clean and adversarial data\n",
        "# # Get predictions for clean, FGSM, and PGD test sets\n",
        "# y_pred_clean = trainer.get_classifier().predict(x_test)\n",
        "# y_pred_fgsm = trainer.get_classifier().predict(x_test_adv_fgsm)\n",
        "# y_pred_pgd = trainer.get_classifier().predict(x_test_adv_pgd)"
      ]
    },
    {
      "cell_type": "code",
      "execution_count": null,
      "metadata": {
        "id": "RyqXpyJa55ag"
      },
      "outputs": [],
      "source": [
        "# Step 7.4: Evaluate the defended model on clean test data\n",
        "y_pred_clean = defended_classifier.predict(x_test, batch_size=64)\n",
        "defended_accuracy_clean = accuracy_score(y_test_labels, np.argmax(y_pred_clean, axis=1))\n",
        "print(f\"Defended model accuracy on clean test data: {defended_accuracy_clean:.4f}\")\n",
        "\n",
        "# Step 7.5: Evaluate the defended model on FGSM adversarial examples\n",
        "y_pred_fgsm = defended_classifier.predict(x_test_adv_fgsm, batch_size=64)\n",
        "defended_accuracy_fgsm = accuracy_score(y_test_labels, np.argmax(y_pred_fgsm, axis=1))\n",
        "print(f\"Defended model accuracy on FGSM adversarial data: {defended_accuracy_fgsm:.4f}\")\n",
        "\n",
        "# Step 7.6: Evaluate the defended model on PGD adversarial examples\n",
        "y_pred_pgd = defended_classifier.predict(x_test_adv_pgd, batch_size=64)\n",
        "defended_accuracy_pgd = accuracy_score(y_test_labels, np.argmax(y_pred_pgd, axis=1))\n",
        "print(f\"Defended model accuracy on PGD adversarial data: {defended_accuracy_pgd:.4f}\")"
      ]
    },
    {
      "cell_type": "code",
      "execution_count": null,
      "metadata": {
        "id": "Xv3wG9J3SD_g"
      },
      "outputs": [],
      "source": [
        "# # Convert one-hot encoded labels back to integers\n",
        "# y_test_labels = np.argmax(y_test, axis=1)"
      ]
    },
    {
      "cell_type": "code",
      "execution_count": null,
      "metadata": {
        "id": "WjyXFbJoSG1b"
      },
      "outputs": [],
      "source": [
        "# # 3. Calculate accuracy for each set\n",
        "# defended_accuracy_clean = accuracy_score(y_test_labels, np.argmax(y_pred_clean, axis=1))\n",
        "# defended_accuracy_fgsm = accuracy_score(y_test_labels, np.argmax(y_pred_fgsm, axis=1))\n",
        "# defended_accuracy_pgd = accuracy_score(y_test_labels, np.argmax(y_pred_pgd, axis=1))\n",
        "\n",
        "# print(f\"Defended model accuracy on clean test data: {defended_accuracy_clean:.4f}\")\n",
        "# print(f\"Defended model accuracy on FGSM adversarial data: {defended_accuracy_fgsm:.4f}\")\n",
        "# print(f\"Defended model accuracy on PGD adversarial data: {defended_accuracy_pgd:.4f}\")"
      ]
    },
    {
      "cell_type": "code",
      "execution_count": null,
      "metadata": {
        "id": "FiAF-veZ6Bc2"
      },
      "outputs": [],
      "source": [
        "# Step 7.7: Optional - Evaluate the defended model on DeepFool adversarial examples\n",
        "subset_size = 200  # Use a subset for faster evaluation\n",
        "x_test_subset = x_test[:subset_size]\n",
        "y_test_subset = y_test_labels[:subset_size]\n",
        "\n",
        "# Create a DeepFool attack object with the defended classifier\n",
        "deepfool_attack = DeepFool(classifier=defended_classifier, max_iter=10)\n",
        "x_test_adv_deepfool = deepfool_attack.generate(x=x_test_subset, batch_size=min(32, subset_size))\n",
        "\n",
        "# Predict on DeepFool adversarial examples\n",
        "y_pred_deepfool = defended_classifier.predict(x_test_adv_deepfool, batch_size=min(32, subset_size))\n",
        "defended_accuracy_deepfool = accuracy_score(y_test_subset, np.argmax(y_pred_deepfool, axis=1))\n",
        "print(f\"Defended model accuracy on DeepFool adversarial data (subset): {defended_accuracy_deepfool:.4f}\")"
      ]
    },
    {
      "cell_type": "markdown",
      "metadata": {
        "id": "T7Oi7Uyet5rl"
      },
      "source": [
        "**Step 8: Evaluate the Model Using DeepFool Attack**"
      ]
    },
    {
      "cell_type": "code",
      "execution_count": null,
      "metadata": {
        "id": "ZrcCPcUEsnl9"
      },
      "outputs": [],
      "source": [
        "# Limit the test set size for faster processing\n",
        "subset_size = 200  # Adjust the subset size to reduce computation time\n",
        "x_test_subset = x_test[:subset_size]\n",
        "y_test_subset = y_test[:subset_size]\n",
        "\n",
        "# Convert one-hot encoded labels back to integers for the subset\n",
        "y_test_labels_subset = np.argmax(y_test_subset, axis=1)\n",
        "\n",
        "# # Initialize DeepFool with fewer iterations for faster processing\n",
        "# classifier = trainer.get_classifier()  # Get the classifier from the AdversarialTrainer\n",
        "# deepfool_attack = DeepFool(classifier=classifier, max_iter=10)  # Reduce iterations\n",
        "\n",
        "# # Generate adversarial examples using DeepFool\n",
        "# x_test_adv_deepfool = deepfool_attack.generate(x=x_test_subset, batch_size=32)  # Use batch processing"
      ]
    },
    {
      "cell_type": "code",
      "execution_count": null,
      "metadata": {
        "id": "JWbLB1gEzbLl"
      },
      "outputs": [],
      "source": [
        "# Generate adversarial examples using DeepFool\n",
        "deepfool_attack = DeepFool(classifier=defended_classifier, max_iter=10)\n",
        "x_test_adv_deepfool = deepfool_attack.generate(x=x_test_subset, batch_size=min(32, subset_size))\n",
        "\n",
        "# Get predictions for DeepFool adversarial examples\n",
        "y_pred_deepfool = defended_classifier.predict(x_test_adv_deepfool, batch_size=min(32, subset_size))\n"
      ]
    },
    {
      "cell_type": "code",
      "execution_count": null,
      "metadata": {
        "id": "XeGKwxiUSky5"
      },
      "outputs": [],
      "source": [
        "# # Get predictions for DeepFool adversarial examples\n",
        "# y_pred_deepfool = classifier.predict(x_test_adv_deepfool)\n",
        "\n",
        "# # Convert one-hot encoded labels back to integers\n",
        "# y_test_labels = np.argmax(y_test_subset, axis=1)"
      ]
    },
    {
      "cell_type": "code",
      "execution_count": null,
      "metadata": {
        "id": "3gU_LlCgSnJz"
      },
      "outputs": [],
      "source": [
        "# Calculate accuracy for DeepFool adversarial examples\n",
        "deepfool_accuracy = accuracy_score(y_test_labels_subset, np.argmax(y_pred_deepfool, axis=1))\n",
        "print(f\"Defended model accuracy on DeepFool adversarial data (subset): {deepfool_accuracy:.4f}\")"
      ]
    },
    {
      "cell_type": "markdown",
      "metadata": {
        "id": "Jl3lBCNvuC44"
      },
      "source": [
        "**Step 9: Visualize Clean vs Adversarial Examples**"
      ]
    },
    {
      "cell_type": "code",
      "execution_count": null,
      "metadata": {
        "id": "XEPlDakhsnrG"
      },
      "outputs": [],
      "source": [
        "# # Original image\n",
        "# plt.figure(figsize=(10, 5))\n",
        "# plt.subplot(1, 2, 1)\n",
        "# plt.title(\"Original Image\")\n",
        "# plt.imshow(x_test[0].reshape(28, 28), cmap='gray')\n",
        "# plt.axis('off')\n",
        "\n",
        "# # Adversarial image (FGSM)\n",
        "# plt.subplot(1, 2, 2)\n",
        "# plt.title(\"Adversarial Image (FGSM)\")\n",
        "# plt.imshow(x_test_adv_fgsm[0].reshape(28, 28), cmap='gray')\n",
        "# plt.axis('off')\n",
        "# plt.show()\n",
        "\n",
        "# Step 9.1: Visualize the original and FGSM adversarial examples\n",
        "plt.figure(figsize=(12, 5))\n",
        "\n",
        "# Original Image\n",
        "plt.subplot(1, 3, 1)\n",
        "plt.title(\"Original Image\")\n",
        "plt.imshow(x_test[0].reshape(28, 28), cmap='gray', vmin=0, vmax=1)\n",
        "plt.axis('off')\n",
        "\n",
        "# FGSM Adversarial Image\n",
        "plt.subplot(1, 3, 2)\n",
        "plt.title(\"Adversarial Image (FGSM)\")\n",
        "plt.imshow(x_test_adv_fgsm[0].reshape(28, 28), cmap='gray', vmin=0, vmax=1)\n",
        "plt.axis('off')\n",
        "\n",
        "# Step 9.2: Visualize a DeepFool adversarial example\n",
        "subset_size = 1  # To visualize a single DeepFool adversarial example"
      ]
    },
    {
      "cell_type": "code",
      "execution_count": null,
      "metadata": {
        "id": "pckMjVE40HwT"
      },
      "outputs": [],
      "source": [
        "# # DeepFool Adversarial Example Visualization\n",
        "# subset_size = 1  # To visualize a single DeepFool adversarial example\n",
        "# deepfool_attack_vis = DeepFool(classifier=trainer.get_classifier(), max_iter=10)\n",
        "# x_test_adv_deepfool_vis = deepfool_attack_vis.generate(x=x_test[:subset_size])\n",
        "\n",
        "# Generate DeepFool adversarial example using the defended classifier\n",
        "deepfool_attack_vis = DeepFool(classifier=defended_classifier, max_iter=10)\n",
        "x_test_adv_deepfool_vis = deepfool_attack_vis.generate(x=x_test[:subset_size], batch_size=1)\n",
        "\n",
        "# DeepFool Adversarial Image\n",
        "plt.subplot(1, 3, 3)\n",
        "plt.title(\"Adversarial Image (DeepFool)\")\n",
        "plt.imshow(x_test_adv_deepfool_vis[0].reshape(28, 28), cmap='gray', vmin=0, vmax=1)\n",
        "plt.axis('off')\n",
        "\n",
        "# Step 9.3: Show the plot\n",
        "plt.suptitle(\"Visualization of Clean vs Adversarial Examples\")\n",
        "plt.tight_layout()\n",
        "plt.show()"
      ]
    },
    {
      "cell_type": "markdown",
      "metadata": {
        "id": "b-iEkqom9pKE"
      },
      "source": [
        "**Step 10: Summary of Results**"
      ]
    },
    {
      "cell_type": "code",
      "execution_count": null,
      "metadata": {
        "id": "6dE2GdsUtqwX"
      },
      "outputs": [],
      "source": [
        "# Print the original model's accuracy on clean and adversarial data\n",
        "print(\"\\n--- Final Results ---\")\n",
        "\n",
        "# Accuracy on clean test data using the original model\n",
        "print(f\"Clean Accuracy (Original): {clean_accuracy[1]:.4f}\")\n",
        "\n",
        "# Accuracy on FGSM adversarial examples using the original model\n",
        "print(f\"FGSM Accuracy (Original): {fgsm_accuracy[1]:.4f}\")\n",
        "\n",
        "# Accuracy on PGD adversarial examples using the original model\n",
        "print(f\"PGD Accuracy (Original): {pgd_accuracy[1]:.4f}\")"
      ]
    },
    {
      "cell_type": "code",
      "execution_count": null,
      "metadata": {
        "id": "eA95WWlbbqxH"
      },
      "outputs": [],
      "source": [
        "# # Print the defended model's accuracy after applying adversarial training\n",
        "# # Accuracy on clean test data using the defended model\n",
        "# print(f\"Clean Accuracy (Defended): {defended_accuracy_clean:.4f}\")\n",
        "\n",
        "# # Accuracy on FGSM adversarial examples using the defended model\n",
        "# print(f\"FGSM Accuracy (Defended): {defended_accuracy_fgsm:.4f}\")\n",
        "\n",
        "# # Accuracy on PGD adversarial examples using the defended model\n",
        "# print(f\"PGD Accuracy (Defended): {defended_accuracy_pgd:.4f}\")\n",
        "\n",
        "# # Accuracy on DeepFool adversarial examples using the defended model\n",
        "# print(f\"DeepFool Accuracy (Defended): {deepfool_accuracy:.4f}\")"
      ]
    },
    {
      "cell_type": "code",
      "execution_count": null,
      "metadata": {
        "id": "SPn4SDIC0SpT"
      },
      "outputs": [],
      "source": [
        "# Step 10.2: Evaluate the original model on DeepFool adversarial examples\n",
        "subset_size = 200\n",
        "x_test_subset = x_test[:subset_size]\n",
        "y_test_subset = y_test[:subset_size]\n",
        "\n",
        "# Convert one-hot encoded labels to integers for the subset\n",
        "y_test_labels_subset = np.argmax(y_test_subset, axis=1)\n",
        "\n",
        "# Generate DeepFool adversarial examples for the original model\n",
        "deepfool_attack_original = DeepFool(classifier=classifier, max_iter=10)\n",
        "x_test_adv_deepfool_original = deepfool_attack_original.generate(x=x_test_subset, batch_size=32)\n",
        "\n",
        "# Predict on DeepFool adversarial examples\n",
        "y_pred_deepfool_original = classifier.predict(x_test_adv_deepfool_original, batch_size=32)\n",
        "deepfool_accuracy_original = accuracy_score(y_test_labels_subset, np.argmax(y_pred_deepfool_original, axis=1))"
      ]
    },
    {
      "cell_type": "code",
      "execution_count": null,
      "metadata": {
        "id": "gZ5tBKQ00VRW"
      },
      "outputs": [],
      "source": [
        "print(f\"DeepFool Accuracy (Original): {deepfool_accuracy_original:.4f}\")\n",
        "\n",
        "# Print the defended model's accuracy after applying adversarial training\n",
        "print(f\"Clean Accuracy (Defended): {defended_accuracy_clean:.4f}\")\n",
        "print(f\"FGSM Accuracy (Defended): {defended_accuracy_fgsm:.4f}\")\n",
        "print(f\"PGD Accuracy (Defended): {defended_accuracy_pgd:.4f}\")\n",
        "print(f\"DeepFool Accuracy (Defended): {deepfool_accuracy:.4f}\")"
      ]
    },
    {
      "cell_type": "markdown",
      "metadata": {
        "id": "r9fZaTyNccHz"
      },
      "source": [
        "**Step 11: Visualizing and Summarizing Results**"
      ]
    },
    {
      "cell_type": "code",
      "execution_count": null,
      "metadata": {
        "id": "m6eAn1iW9jgb"
      },
      "outputs": [],
      "source": [
        "# Step 11.1: Accuracy values for original and defended models\n",
        "original_accuracies = [\n",
        "    clean_accuracy[1],\n",
        "    fgsm_accuracy[1],\n",
        "    pgd_accuracy[1],\n",
        "    deepfool_accuracy_original\n",
        "]\n",
        "\n",
        "defended_accuracies = [\n",
        "    defended_accuracy_clean,\n",
        "    defended_accuracy_fgsm,\n",
        "    defended_accuracy_pgd,\n",
        "    deepfool_accuracy\n",
        "]\n",
        "\n",
        "# Step 11.2: Replace None values with 0.0 if any\n",
        "original_accuracies = [acc if acc is not None else 0.0 for acc in original_accuracies]\n",
        "defended_accuracies = [acc if acc is not None else 0.0 for acc in defended_accuracies]"
      ]
    },
    {
      "cell_type": "code",
      "execution_count": null,
      "metadata": {
        "id": "cBlPB0Mdcxs9"
      },
      "outputs": [],
      "source": [
        "# # Accuracy values for original and defended models\n",
        "# original_accuracies = [clean_accuracy[1], fgsm_accuracy[1], pgd_accuracy[1]]\n",
        "# defended_accuracies = [defended_accuracy_clean, defended_accuracy_fgsm, defended_accuracy_pgd, deepfool_accuracy]\n",
        "\n",
        "# # Add placeholder for DeepFool in original model if it's not available\n",
        "# if len(original_accuracies) < len(defended_accuracies):\n",
        "#     original_accuracies.append(0.0)  # Add 0.0 instead of None\n",
        "\n",
        "# # Replace any remaining None values with 0.0\n",
        "# original_accuracies = [acc if acc is not None else 0.0 for acc in original_accuracies]\n",
        "# defended_accuracies = [acc if acc is not None else 0.0 for acc in defended_accuracies]"
      ]
    },
    {
      "cell_type": "code",
      "execution_count": null,
      "metadata": {
        "id": "jSGiJKxccJFw"
      },
      "outputs": [],
      "source": [
        "# # Labels for each set of bars\n",
        "# labels = ['Clean', 'FGSM', 'PGD', 'DeepFool']\n",
        "\n",
        "# # Create the bar chart\n",
        "# width = 0.35\n",
        "# x = range(len(labels))\n",
        "# plt.figure(figsize=(10, 6))\n",
        "# plt.bar(x, original_accuracies, width, label='Original Model')\n",
        "# plt.bar([i + width for i in x], defended_accuracies, width, label='Defended Model')\n",
        "\n",
        "# # Add labels and titles\n",
        "# plt.xlabel('Dataset')\n",
        "# plt.ylabel('Accuracy')\n",
        "# plt.title('Model Accuracy on Clean and Adversarial Examples')\n",
        "# plt.xticks([i + width / 2 for i in x], labels)\n",
        "# plt.legend()\n",
        "# plt.grid(True)\n",
        "# plt.show()\n",
        "\n",
        "# Step 11.3: Labels for the datasets\n",
        "labels = ['Clean', 'FGSM', 'PGD', 'DeepFool']\n",
        "\n",
        "# Step 11.4: Create the bar chart\n",
        "width = 0.35\n",
        "x = range(len(labels))\n",
        "plt.figure(figsize=(10, 6))\n",
        "\n",
        "# Plot original model accuracies\n",
        "plt.bar(x, original_accuracies, width, label='Original Model', color='skyblue')\n",
        "\n",
        "# Plot defended model accuracies next to the original model\n",
        "plt.bar([i + width for i in x], defended_accuracies, width, label='Defended Model', color='salmon')\n",
        "\n",
        "# Step 11.5: Add labels, titles, and grid\n",
        "plt.xlabel('Dataset')\n",
        "plt.ylabel('Accuracy')\n",
        "plt.title('Model Accuracy on Clean and Adversarial Examples')\n",
        "plt.xticks([i + width / 2 for i in x], labels)\n",
        "plt.ylim(0, 1)  # Ensures the y-axis is between 0 and 1 since accuracy is a percentage\n",
        "plt.legend()\n",
        "plt.grid(True, linestyle='--', alpha=0.6)\n",
        "\n",
        "# Step 11.6: Show the plot\n",
        "plt.tight_layout()\n",
        "plt.show()"
      ]
    },
    {
      "cell_type": "markdown",
      "metadata": {
        "id": "S7qTFb2R9z6H"
      },
      "source": [
        "--------------------------------------------------------------------------------"
      ]
    },
    {
      "cell_type": "code",
      "execution_count": null,
      "metadata": {
        "id": "KalyV2Pjtq21"
      },
      "outputs": [],
      "source": []
    }
  ],
  "metadata": {
    "colab": {
      "provenance": [],
      "gpuType": "T4"
    },
    "kernelspec": {
      "display_name": "Python 3",
      "name": "python3"
    },
    "language_info": {
      "name": "python"
    },
    "widgets": {
      "application/vnd.jupyter.widget-state+json": {
        "8d6fe5a84db94089b5dfd95d3c917169": {
          "model_module": "@jupyter-widgets/controls",
          "model_name": "HBoxModel",
          "model_module_version": "1.5.0",
          "state": {
            "_dom_classes": [],
            "_model_module": "@jupyter-widgets/controls",
            "_model_module_version": "1.5.0",
            "_model_name": "HBoxModel",
            "_view_count": null,
            "_view_module": "@jupyter-widgets/controls",
            "_view_module_version": "1.5.0",
            "_view_name": "HBoxView",
            "box_style": "",
            "children": [
              "IPY_MODEL_bddf703542864e96a0cf6b88f4e9210b",
              "IPY_MODEL_38fee914a4ee4713812b7973de5f5df0",
              "IPY_MODEL_2fb05ff0a0674d328c7f966dfeee6597"
            ],
            "layout": "IPY_MODEL_87280ec057fd43ac801a17bfedbbd69e"
          }
        },
        "bddf703542864e96a0cf6b88f4e9210b": {
          "model_module": "@jupyter-widgets/controls",
          "model_name": "HTMLModel",
          "model_module_version": "1.5.0",
          "state": {
            "_dom_classes": [],
            "_model_module": "@jupyter-widgets/controls",
            "_model_module_version": "1.5.0",
            "_model_name": "HTMLModel",
            "_view_count": null,
            "_view_module": "@jupyter-widgets/controls",
            "_view_module_version": "1.5.0",
            "_view_name": "HTMLView",
            "description": "",
            "description_tooltip": null,
            "layout": "IPY_MODEL_b364afccfbfe4ef9bcbbb1ad55ef8834",
            "placeholder": "​",
            "style": "IPY_MODEL_0a5a020aeafb48ec8087ffc6142c7fd3",
            "value": "PGD - Batches: "
          }
        },
        "38fee914a4ee4713812b7973de5f5df0": {
          "model_module": "@jupyter-widgets/controls",
          "model_name": "FloatProgressModel",
          "model_module_version": "1.5.0",
          "state": {
            "_dom_classes": [],
            "_model_module": "@jupyter-widgets/controls",
            "_model_module_version": "1.5.0",
            "_model_name": "FloatProgressModel",
            "_view_count": null,
            "_view_module": "@jupyter-widgets/controls",
            "_view_module_version": "1.5.0",
            "_view_name": "ProgressView",
            "bar_style": "info",
            "description": "",
            "description_tooltip": null,
            "layout": "IPY_MODEL_913d43faf80f47c2b111a3d63e631edc",
            "max": 1,
            "min": 0,
            "orientation": "horizontal",
            "style": "IPY_MODEL_504b569ffd1d41299ef1b1363849bf32",
            "value": 1
          }
        },
        "2fb05ff0a0674d328c7f966dfeee6597": {
          "model_module": "@jupyter-widgets/controls",
          "model_name": "HTMLModel",
          "model_module_version": "1.5.0",
          "state": {
            "_dom_classes": [],
            "_model_module": "@jupyter-widgets/controls",
            "_model_module_version": "1.5.0",
            "_model_name": "HTMLModel",
            "_view_count": null,
            "_view_module": "@jupyter-widgets/controls",
            "_view_module_version": "1.5.0",
            "_view_name": "HTMLView",
            "description": "",
            "description_tooltip": null,
            "layout": "IPY_MODEL_84d9423747614280b8534d20df15de45",
            "placeholder": "​",
            "style": "IPY_MODEL_1667157e766c41e992b35774c83608eb",
            "value": " 313/? [17:33&lt;00:00,  3.26s/it]"
          }
        },
        "87280ec057fd43ac801a17bfedbbd69e": {
          "model_module": "@jupyter-widgets/base",
          "model_name": "LayoutModel",
          "model_module_version": "1.2.0",
          "state": {
            "_model_module": "@jupyter-widgets/base",
            "_model_module_version": "1.2.0",
            "_model_name": "LayoutModel",
            "_view_count": null,
            "_view_module": "@jupyter-widgets/base",
            "_view_module_version": "1.2.0",
            "_view_name": "LayoutView",
            "align_content": null,
            "align_items": null,
            "align_self": null,
            "border": null,
            "bottom": null,
            "display": null,
            "flex": null,
            "flex_flow": null,
            "grid_area": null,
            "grid_auto_columns": null,
            "grid_auto_flow": null,
            "grid_auto_rows": null,
            "grid_column": null,
            "grid_gap": null,
            "grid_row": null,
            "grid_template_areas": null,
            "grid_template_columns": null,
            "grid_template_rows": null,
            "height": null,
            "justify_content": null,
            "justify_items": null,
            "left": null,
            "margin": null,
            "max_height": null,
            "max_width": null,
            "min_height": null,
            "min_width": null,
            "object_fit": null,
            "object_position": null,
            "order": null,
            "overflow": null,
            "overflow_x": null,
            "overflow_y": null,
            "padding": null,
            "right": null,
            "top": null,
            "visibility": "hidden",
            "width": null
          }
        },
        "b364afccfbfe4ef9bcbbb1ad55ef8834": {
          "model_module": "@jupyter-widgets/base",
          "model_name": "LayoutModel",
          "model_module_version": "1.2.0",
          "state": {
            "_model_module": "@jupyter-widgets/base",
            "_model_module_version": "1.2.0",
            "_model_name": "LayoutModel",
            "_view_count": null,
            "_view_module": "@jupyter-widgets/base",
            "_view_module_version": "1.2.0",
            "_view_name": "LayoutView",
            "align_content": null,
            "align_items": null,
            "align_self": null,
            "border": null,
            "bottom": null,
            "display": null,
            "flex": null,
            "flex_flow": null,
            "grid_area": null,
            "grid_auto_columns": null,
            "grid_auto_flow": null,
            "grid_auto_rows": null,
            "grid_column": null,
            "grid_gap": null,
            "grid_row": null,
            "grid_template_areas": null,
            "grid_template_columns": null,
            "grid_template_rows": null,
            "height": null,
            "justify_content": null,
            "justify_items": null,
            "left": null,
            "margin": null,
            "max_height": null,
            "max_width": null,
            "min_height": null,
            "min_width": null,
            "object_fit": null,
            "object_position": null,
            "order": null,
            "overflow": null,
            "overflow_x": null,
            "overflow_y": null,
            "padding": null,
            "right": null,
            "top": null,
            "visibility": null,
            "width": null
          }
        },
        "0a5a020aeafb48ec8087ffc6142c7fd3": {
          "model_module": "@jupyter-widgets/controls",
          "model_name": "DescriptionStyleModel",
          "model_module_version": "1.5.0",
          "state": {
            "_model_module": "@jupyter-widgets/controls",
            "_model_module_version": "1.5.0",
            "_model_name": "DescriptionStyleModel",
            "_view_count": null,
            "_view_module": "@jupyter-widgets/base",
            "_view_module_version": "1.2.0",
            "_view_name": "StyleView",
            "description_width": ""
          }
        },
        "913d43faf80f47c2b111a3d63e631edc": {
          "model_module": "@jupyter-widgets/base",
          "model_name": "LayoutModel",
          "model_module_version": "1.2.0",
          "state": {
            "_model_module": "@jupyter-widgets/base",
            "_model_module_version": "1.2.0",
            "_model_name": "LayoutModel",
            "_view_count": null,
            "_view_module": "@jupyter-widgets/base",
            "_view_module_version": "1.2.0",
            "_view_name": "LayoutView",
            "align_content": null,
            "align_items": null,
            "align_self": null,
            "border": null,
            "bottom": null,
            "display": null,
            "flex": null,
            "flex_flow": null,
            "grid_area": null,
            "grid_auto_columns": null,
            "grid_auto_flow": null,
            "grid_auto_rows": null,
            "grid_column": null,
            "grid_gap": null,
            "grid_row": null,
            "grid_template_areas": null,
            "grid_template_columns": null,
            "grid_template_rows": null,
            "height": null,
            "justify_content": null,
            "justify_items": null,
            "left": null,
            "margin": null,
            "max_height": null,
            "max_width": null,
            "min_height": null,
            "min_width": null,
            "object_fit": null,
            "object_position": null,
            "order": null,
            "overflow": null,
            "overflow_x": null,
            "overflow_y": null,
            "padding": null,
            "right": null,
            "top": null,
            "visibility": null,
            "width": "20px"
          }
        },
        "504b569ffd1d41299ef1b1363849bf32": {
          "model_module": "@jupyter-widgets/controls",
          "model_name": "ProgressStyleModel",
          "model_module_version": "1.5.0",
          "state": {
            "_model_module": "@jupyter-widgets/controls",
            "_model_module_version": "1.5.0",
            "_model_name": "ProgressStyleModel",
            "_view_count": null,
            "_view_module": "@jupyter-widgets/base",
            "_view_module_version": "1.2.0",
            "_view_name": "StyleView",
            "bar_color": null,
            "description_width": ""
          }
        },
        "84d9423747614280b8534d20df15de45": {
          "model_module": "@jupyter-widgets/base",
          "model_name": "LayoutModel",
          "model_module_version": "1.2.0",
          "state": {
            "_model_module": "@jupyter-widgets/base",
            "_model_module_version": "1.2.0",
            "_model_name": "LayoutModel",
            "_view_count": null,
            "_view_module": "@jupyter-widgets/base",
            "_view_module_version": "1.2.0",
            "_view_name": "LayoutView",
            "align_content": null,
            "align_items": null,
            "align_self": null,
            "border": null,
            "bottom": null,
            "display": null,
            "flex": null,
            "flex_flow": null,
            "grid_area": null,
            "grid_auto_columns": null,
            "grid_auto_flow": null,
            "grid_auto_rows": null,
            "grid_column": null,
            "grid_gap": null,
            "grid_row": null,
            "grid_template_areas": null,
            "grid_template_columns": null,
            "grid_template_rows": null,
            "height": null,
            "justify_content": null,
            "justify_items": null,
            "left": null,
            "margin": null,
            "max_height": null,
            "max_width": null,
            "min_height": null,
            "min_width": null,
            "object_fit": null,
            "object_position": null,
            "order": null,
            "overflow": null,
            "overflow_x": null,
            "overflow_y": null,
            "padding": null,
            "right": null,
            "top": null,
            "visibility": null,
            "width": null
          }
        },
        "1667157e766c41e992b35774c83608eb": {
          "model_module": "@jupyter-widgets/controls",
          "model_name": "DescriptionStyleModel",
          "model_module_version": "1.5.0",
          "state": {
            "_model_module": "@jupyter-widgets/controls",
            "_model_module_version": "1.5.0",
            "_model_name": "DescriptionStyleModel",
            "_view_count": null,
            "_view_module": "@jupyter-widgets/base",
            "_view_module_version": "1.2.0",
            "_view_name": "StyleView",
            "description_width": ""
          }
        },
        "4af02db7cab14d02aa1ff099da0482be": {
          "model_module": "@jupyter-widgets/controls",
          "model_name": "HBoxModel",
          "model_module_version": "1.5.0",
          "state": {
            "_dom_classes": [],
            "_model_module": "@jupyter-widgets/controls",
            "_model_module_version": "1.5.0",
            "_model_name": "HBoxModel",
            "_view_count": null,
            "_view_module": "@jupyter-widgets/controls",
            "_view_module_version": "1.5.0",
            "_view_name": "HBoxView",
            "box_style": "",
            "children": [
              "IPY_MODEL_b0e9707a93de4c30aa08324c420bc75d",
              "IPY_MODEL_0f1e2bd0084e405fb80b572bf881306f",
              "IPY_MODEL_5ada3287857c48ef8b04260a02d96202"
            ],
            "layout": "IPY_MODEL_83c99180513b4e23ade7b409f0501903"
          }
        },
        "b0e9707a93de4c30aa08324c420bc75d": {
          "model_module": "@jupyter-widgets/controls",
          "model_name": "HTMLModel",
          "model_module_version": "1.5.0",
          "state": {
            "_dom_classes": [],
            "_model_module": "@jupyter-widgets/controls",
            "_model_module_version": "1.5.0",
            "_model_name": "HTMLModel",
            "_view_count": null,
            "_view_module": "@jupyter-widgets/controls",
            "_view_module_version": "1.5.0",
            "_view_name": "HTMLView",
            "description": "",
            "description_tooltip": null,
            "layout": "IPY_MODEL_5ef5cde83e6b415e818b72986a6639ea",
            "placeholder": "​",
            "style": "IPY_MODEL_55ee0a5248504b9f836aa7b53ee89879",
            "value": "PGD - Batches: "
          }
        },
        "0f1e2bd0084e405fb80b572bf881306f": {
          "model_module": "@jupyter-widgets/controls",
          "model_name": "FloatProgressModel",
          "model_module_version": "1.5.0",
          "state": {
            "_dom_classes": [],
            "_model_module": "@jupyter-widgets/controls",
            "_model_module_version": "1.5.0",
            "_model_name": "FloatProgressModel",
            "_view_count": null,
            "_view_module": "@jupyter-widgets/controls",
            "_view_module_version": "1.5.0",
            "_view_name": "ProgressView",
            "bar_style": "info",
            "description": "",
            "description_tooltip": null,
            "layout": "IPY_MODEL_f816a7815316469baf433be158dc4496",
            "max": 1,
            "min": 0,
            "orientation": "horizontal",
            "style": "IPY_MODEL_3fee9eca7f1e4a95b2b0659e0023947b",
            "value": 1
          }
        },
        "5ada3287857c48ef8b04260a02d96202": {
          "model_module": "@jupyter-widgets/controls",
          "model_name": "HTMLModel",
          "model_module_version": "1.5.0",
          "state": {
            "_dom_classes": [],
            "_model_module": "@jupyter-widgets/controls",
            "_model_module_version": "1.5.0",
            "_model_name": "HTMLModel",
            "_view_count": null,
            "_view_module": "@jupyter-widgets/controls",
            "_view_module_version": "1.5.0",
            "_view_name": "HTMLView",
            "description": "",
            "description_tooltip": null,
            "layout": "IPY_MODEL_921b8e4b0ff945b5bbdce42bede94042",
            "placeholder": "​",
            "style": "IPY_MODEL_15349fa8601c4c9c9ccf0688a42cc916",
            "value": " 313/? [17:34&lt;00:00,  3.33s/it]"
          }
        },
        "83c99180513b4e23ade7b409f0501903": {
          "model_module": "@jupyter-widgets/base",
          "model_name": "LayoutModel",
          "model_module_version": "1.2.0",
          "state": {
            "_model_module": "@jupyter-widgets/base",
            "_model_module_version": "1.2.0",
            "_model_name": "LayoutModel",
            "_view_count": null,
            "_view_module": "@jupyter-widgets/base",
            "_view_module_version": "1.2.0",
            "_view_name": "LayoutView",
            "align_content": null,
            "align_items": null,
            "align_self": null,
            "border": null,
            "bottom": null,
            "display": null,
            "flex": null,
            "flex_flow": null,
            "grid_area": null,
            "grid_auto_columns": null,
            "grid_auto_flow": null,
            "grid_auto_rows": null,
            "grid_column": null,
            "grid_gap": null,
            "grid_row": null,
            "grid_template_areas": null,
            "grid_template_columns": null,
            "grid_template_rows": null,
            "height": null,
            "justify_content": null,
            "justify_items": null,
            "left": null,
            "margin": null,
            "max_height": null,
            "max_width": null,
            "min_height": null,
            "min_width": null,
            "object_fit": null,
            "object_position": null,
            "order": null,
            "overflow": null,
            "overflow_x": null,
            "overflow_y": null,
            "padding": null,
            "right": null,
            "top": null,
            "visibility": "hidden",
            "width": null
          }
        },
        "5ef5cde83e6b415e818b72986a6639ea": {
          "model_module": "@jupyter-widgets/base",
          "model_name": "LayoutModel",
          "model_module_version": "1.2.0",
          "state": {
            "_model_module": "@jupyter-widgets/base",
            "_model_module_version": "1.2.0",
            "_model_name": "LayoutModel",
            "_view_count": null,
            "_view_module": "@jupyter-widgets/base",
            "_view_module_version": "1.2.0",
            "_view_name": "LayoutView",
            "align_content": null,
            "align_items": null,
            "align_self": null,
            "border": null,
            "bottom": null,
            "display": null,
            "flex": null,
            "flex_flow": null,
            "grid_area": null,
            "grid_auto_columns": null,
            "grid_auto_flow": null,
            "grid_auto_rows": null,
            "grid_column": null,
            "grid_gap": null,
            "grid_row": null,
            "grid_template_areas": null,
            "grid_template_columns": null,
            "grid_template_rows": null,
            "height": null,
            "justify_content": null,
            "justify_items": null,
            "left": null,
            "margin": null,
            "max_height": null,
            "max_width": null,
            "min_height": null,
            "min_width": null,
            "object_fit": null,
            "object_position": null,
            "order": null,
            "overflow": null,
            "overflow_x": null,
            "overflow_y": null,
            "padding": null,
            "right": null,
            "top": null,
            "visibility": null,
            "width": null
          }
        },
        "55ee0a5248504b9f836aa7b53ee89879": {
          "model_module": "@jupyter-widgets/controls",
          "model_name": "DescriptionStyleModel",
          "model_module_version": "1.5.0",
          "state": {
            "_model_module": "@jupyter-widgets/controls",
            "_model_module_version": "1.5.0",
            "_model_name": "DescriptionStyleModel",
            "_view_count": null,
            "_view_module": "@jupyter-widgets/base",
            "_view_module_version": "1.2.0",
            "_view_name": "StyleView",
            "description_width": ""
          }
        },
        "f816a7815316469baf433be158dc4496": {
          "model_module": "@jupyter-widgets/base",
          "model_name": "LayoutModel",
          "model_module_version": "1.2.0",
          "state": {
            "_model_module": "@jupyter-widgets/base",
            "_model_module_version": "1.2.0",
            "_model_name": "LayoutModel",
            "_view_count": null,
            "_view_module": "@jupyter-widgets/base",
            "_view_module_version": "1.2.0",
            "_view_name": "LayoutView",
            "align_content": null,
            "align_items": null,
            "align_self": null,
            "border": null,
            "bottom": null,
            "display": null,
            "flex": null,
            "flex_flow": null,
            "grid_area": null,
            "grid_auto_columns": null,
            "grid_auto_flow": null,
            "grid_auto_rows": null,
            "grid_column": null,
            "grid_gap": null,
            "grid_row": null,
            "grid_template_areas": null,
            "grid_template_columns": null,
            "grid_template_rows": null,
            "height": null,
            "justify_content": null,
            "justify_items": null,
            "left": null,
            "margin": null,
            "max_height": null,
            "max_width": null,
            "min_height": null,
            "min_width": null,
            "object_fit": null,
            "object_position": null,
            "order": null,
            "overflow": null,
            "overflow_x": null,
            "overflow_y": null,
            "padding": null,
            "right": null,
            "top": null,
            "visibility": null,
            "width": "20px"
          }
        },
        "3fee9eca7f1e4a95b2b0659e0023947b": {
          "model_module": "@jupyter-widgets/controls",
          "model_name": "ProgressStyleModel",
          "model_module_version": "1.5.0",
          "state": {
            "_model_module": "@jupyter-widgets/controls",
            "_model_module_version": "1.5.0",
            "_model_name": "ProgressStyleModel",
            "_view_count": null,
            "_view_module": "@jupyter-widgets/base",
            "_view_module_version": "1.2.0",
            "_view_name": "StyleView",
            "bar_color": null,
            "description_width": ""
          }
        },
        "921b8e4b0ff945b5bbdce42bede94042": {
          "model_module": "@jupyter-widgets/base",
          "model_name": "LayoutModel",
          "model_module_version": "1.2.0",
          "state": {
            "_model_module": "@jupyter-widgets/base",
            "_model_module_version": "1.2.0",
            "_model_name": "LayoutModel",
            "_view_count": null,
            "_view_module": "@jupyter-widgets/base",
            "_view_module_version": "1.2.0",
            "_view_name": "LayoutView",
            "align_content": null,
            "align_items": null,
            "align_self": null,
            "border": null,
            "bottom": null,
            "display": null,
            "flex": null,
            "flex_flow": null,
            "grid_area": null,
            "grid_auto_columns": null,
            "grid_auto_flow": null,
            "grid_auto_rows": null,
            "grid_column": null,
            "grid_gap": null,
            "grid_row": null,
            "grid_template_areas": null,
            "grid_template_columns": null,
            "grid_template_rows": null,
            "height": null,
            "justify_content": null,
            "justify_items": null,
            "left": null,
            "margin": null,
            "max_height": null,
            "max_width": null,
            "min_height": null,
            "min_width": null,
            "object_fit": null,
            "object_position": null,
            "order": null,
            "overflow": null,
            "overflow_x": null,
            "overflow_y": null,
            "padding": null,
            "right": null,
            "top": null,
            "visibility": null,
            "width": null
          }
        },
        "15349fa8601c4c9c9ccf0688a42cc916": {
          "model_module": "@jupyter-widgets/controls",
          "model_name": "DescriptionStyleModel",
          "model_module_version": "1.5.0",
          "state": {
            "_model_module": "@jupyter-widgets/controls",
            "_model_module_version": "1.5.0",
            "_model_name": "DescriptionStyleModel",
            "_view_count": null,
            "_view_module": "@jupyter-widgets/base",
            "_view_module_version": "1.2.0",
            "_view_name": "StyleView",
            "description_width": ""
          }
        },
        "4252733223674c8c86c2dbc974ff325c": {
          "model_module": "@jupyter-widgets/controls",
          "model_name": "HBoxModel",
          "model_module_version": "1.5.0",
          "state": {
            "_dom_classes": [],
            "_model_module": "@jupyter-widgets/controls",
            "_model_module_version": "1.5.0",
            "_model_name": "HBoxModel",
            "_view_count": null,
            "_view_module": "@jupyter-widgets/controls",
            "_view_module_version": "1.5.0",
            "_view_name": "HBoxView",
            "box_style": "",
            "children": [
              "IPY_MODEL_8cc7495b55fa47debfb150934fffb3e1",
              "IPY_MODEL_1cba6895ffbe41a4937a47cb7fde7e3d",
              "IPY_MODEL_3ea45240290e4b418fab43daf570241d"
            ],
            "layout": "IPY_MODEL_e61a3b7894504188a3601fb490e2d34c"
          }
        },
        "8cc7495b55fa47debfb150934fffb3e1": {
          "model_module": "@jupyter-widgets/controls",
          "model_name": "HTMLModel",
          "model_module_version": "1.5.0",
          "state": {
            "_dom_classes": [],
            "_model_module": "@jupyter-widgets/controls",
            "_model_module_version": "1.5.0",
            "_model_name": "HTMLModel",
            "_view_count": null,
            "_view_module": "@jupyter-widgets/controls",
            "_view_module_version": "1.5.0",
            "_view_name": "HTMLView",
            "description": "",
            "description_tooltip": null,
            "layout": "IPY_MODEL_2bbcc302cc4848ab82962f730b49fad8",
            "placeholder": "​",
            "style": "IPY_MODEL_72b13bbf9ed24feeb9b0fb9d9abf61f1",
            "value": "Precompute adv samples:  50%"
          }
        },
        "1cba6895ffbe41a4937a47cb7fde7e3d": {
          "model_module": "@jupyter-widgets/controls",
          "model_name": "FloatProgressModel",
          "model_module_version": "1.5.0",
          "state": {
            "_dom_classes": [],
            "_model_module": "@jupyter-widgets/controls",
            "_model_module_version": "1.5.0",
            "_model_name": "FloatProgressModel",
            "_view_count": null,
            "_view_module": "@jupyter-widgets/controls",
            "_view_module_version": "1.5.0",
            "_view_name": "ProgressView",
            "bar_style": "",
            "description": "",
            "description_tooltip": null,
            "layout": "IPY_MODEL_5513df8b86884a45a75cf1e7b55958cd",
            "max": 2,
            "min": 0,
            "orientation": "horizontal",
            "style": "IPY_MODEL_4228b63898b9473289038d3ec39cd60e",
            "value": 1
          }
        },
        "3ea45240290e4b418fab43daf570241d": {
          "model_module": "@jupyter-widgets/controls",
          "model_name": "HTMLModel",
          "model_module_version": "1.5.0",
          "state": {
            "_dom_classes": [],
            "_model_module": "@jupyter-widgets/controls",
            "_model_module_version": "1.5.0",
            "_model_name": "HTMLModel",
            "_view_count": null,
            "_view_module": "@jupyter-widgets/controls",
            "_view_module_version": "1.5.0",
            "_view_name": "HTMLView",
            "description": "",
            "description_tooltip": null,
            "layout": "IPY_MODEL_837f70128faf468b95533b8ccf116ba1",
            "placeholder": "​",
            "style": "IPY_MODEL_ff4ec02f34dc40249883ec72fc516e13",
            "value": " 1/2 [00:50&lt;00:50, 50.76s/it]"
          }
        },
        "e61a3b7894504188a3601fb490e2d34c": {
          "model_module": "@jupyter-widgets/base",
          "model_name": "LayoutModel",
          "model_module_version": "1.2.0",
          "state": {
            "_model_module": "@jupyter-widgets/base",
            "_model_module_version": "1.2.0",
            "_model_name": "LayoutModel",
            "_view_count": null,
            "_view_module": "@jupyter-widgets/base",
            "_view_module_version": "1.2.0",
            "_view_name": "LayoutView",
            "align_content": null,
            "align_items": null,
            "align_self": null,
            "border": null,
            "bottom": null,
            "display": null,
            "flex": null,
            "flex_flow": null,
            "grid_area": null,
            "grid_auto_columns": null,
            "grid_auto_flow": null,
            "grid_auto_rows": null,
            "grid_column": null,
            "grid_gap": null,
            "grid_row": null,
            "grid_template_areas": null,
            "grid_template_columns": null,
            "grid_template_rows": null,
            "height": null,
            "justify_content": null,
            "justify_items": null,
            "left": null,
            "margin": null,
            "max_height": null,
            "max_width": null,
            "min_height": null,
            "min_width": null,
            "object_fit": null,
            "object_position": null,
            "order": null,
            "overflow": null,
            "overflow_x": null,
            "overflow_y": null,
            "padding": null,
            "right": null,
            "top": null,
            "visibility": null,
            "width": null
          }
        },
        "2bbcc302cc4848ab82962f730b49fad8": {
          "model_module": "@jupyter-widgets/base",
          "model_name": "LayoutModel",
          "model_module_version": "1.2.0",
          "state": {
            "_model_module": "@jupyter-widgets/base",
            "_model_module_version": "1.2.0",
            "_model_name": "LayoutModel",
            "_view_count": null,
            "_view_module": "@jupyter-widgets/base",
            "_view_module_version": "1.2.0",
            "_view_name": "LayoutView",
            "align_content": null,
            "align_items": null,
            "align_self": null,
            "border": null,
            "bottom": null,
            "display": null,
            "flex": null,
            "flex_flow": null,
            "grid_area": null,
            "grid_auto_columns": null,
            "grid_auto_flow": null,
            "grid_auto_rows": null,
            "grid_column": null,
            "grid_gap": null,
            "grid_row": null,
            "grid_template_areas": null,
            "grid_template_columns": null,
            "grid_template_rows": null,
            "height": null,
            "justify_content": null,
            "justify_items": null,
            "left": null,
            "margin": null,
            "max_height": null,
            "max_width": null,
            "min_height": null,
            "min_width": null,
            "object_fit": null,
            "object_position": null,
            "order": null,
            "overflow": null,
            "overflow_x": null,
            "overflow_y": null,
            "padding": null,
            "right": null,
            "top": null,
            "visibility": null,
            "width": null
          }
        },
        "72b13bbf9ed24feeb9b0fb9d9abf61f1": {
          "model_module": "@jupyter-widgets/controls",
          "model_name": "DescriptionStyleModel",
          "model_module_version": "1.5.0",
          "state": {
            "_model_module": "@jupyter-widgets/controls",
            "_model_module_version": "1.5.0",
            "_model_name": "DescriptionStyleModel",
            "_view_count": null,
            "_view_module": "@jupyter-widgets/base",
            "_view_module_version": "1.2.0",
            "_view_name": "StyleView",
            "description_width": ""
          }
        },
        "5513df8b86884a45a75cf1e7b55958cd": {
          "model_module": "@jupyter-widgets/base",
          "model_name": "LayoutModel",
          "model_module_version": "1.2.0",
          "state": {
            "_model_module": "@jupyter-widgets/base",
            "_model_module_version": "1.2.0",
            "_model_name": "LayoutModel",
            "_view_count": null,
            "_view_module": "@jupyter-widgets/base",
            "_view_module_version": "1.2.0",
            "_view_name": "LayoutView",
            "align_content": null,
            "align_items": null,
            "align_self": null,
            "border": null,
            "bottom": null,
            "display": null,
            "flex": null,
            "flex_flow": null,
            "grid_area": null,
            "grid_auto_columns": null,
            "grid_auto_flow": null,
            "grid_auto_rows": null,
            "grid_column": null,
            "grid_gap": null,
            "grid_row": null,
            "grid_template_areas": null,
            "grid_template_columns": null,
            "grid_template_rows": null,
            "height": null,
            "justify_content": null,
            "justify_items": null,
            "left": null,
            "margin": null,
            "max_height": null,
            "max_width": null,
            "min_height": null,
            "min_width": null,
            "object_fit": null,
            "object_position": null,
            "order": null,
            "overflow": null,
            "overflow_x": null,
            "overflow_y": null,
            "padding": null,
            "right": null,
            "top": null,
            "visibility": null,
            "width": null
          }
        },
        "4228b63898b9473289038d3ec39cd60e": {
          "model_module": "@jupyter-widgets/controls",
          "model_name": "ProgressStyleModel",
          "model_module_version": "1.5.0",
          "state": {
            "_model_module": "@jupyter-widgets/controls",
            "_model_module_version": "1.5.0",
            "_model_name": "ProgressStyleModel",
            "_view_count": null,
            "_view_module": "@jupyter-widgets/base",
            "_view_module_version": "1.2.0",
            "_view_name": "StyleView",
            "bar_color": null,
            "description_width": ""
          }
        },
        "837f70128faf468b95533b8ccf116ba1": {
          "model_module": "@jupyter-widgets/base",
          "model_name": "LayoutModel",
          "model_module_version": "1.2.0",
          "state": {
            "_model_module": "@jupyter-widgets/base",
            "_model_module_version": "1.2.0",
            "_model_name": "LayoutModel",
            "_view_count": null,
            "_view_module": "@jupyter-widgets/base",
            "_view_module_version": "1.2.0",
            "_view_name": "LayoutView",
            "align_content": null,
            "align_items": null,
            "align_self": null,
            "border": null,
            "bottom": null,
            "display": null,
            "flex": null,
            "flex_flow": null,
            "grid_area": null,
            "grid_auto_columns": null,
            "grid_auto_flow": null,
            "grid_auto_rows": null,
            "grid_column": null,
            "grid_gap": null,
            "grid_row": null,
            "grid_template_areas": null,
            "grid_template_columns": null,
            "grid_template_rows": null,
            "height": null,
            "justify_content": null,
            "justify_items": null,
            "left": null,
            "margin": null,
            "max_height": null,
            "max_width": null,
            "min_height": null,
            "min_width": null,
            "object_fit": null,
            "object_position": null,
            "order": null,
            "overflow": null,
            "overflow_x": null,
            "overflow_y": null,
            "padding": null,
            "right": null,
            "top": null,
            "visibility": null,
            "width": null
          }
        },
        "ff4ec02f34dc40249883ec72fc516e13": {
          "model_module": "@jupyter-widgets/controls",
          "model_name": "DescriptionStyleModel",
          "model_module_version": "1.5.0",
          "state": {
            "_model_module": "@jupyter-widgets/controls",
            "_model_module_version": "1.5.0",
            "_model_name": "DescriptionStyleModel",
            "_view_count": null,
            "_view_module": "@jupyter-widgets/base",
            "_view_module_version": "1.2.0",
            "_view_name": "StyleView",
            "description_width": ""
          }
        }
      }
    },
    "accelerator": "GPU"
  },
  "nbformat": 4,
  "nbformat_minor": 0
}