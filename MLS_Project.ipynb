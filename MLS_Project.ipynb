{
  "cells": [
    {
      "cell_type": "markdown",
      "metadata": {
        "id": "aWr-TXgXs0uI"
      },
      "source": [
        "**Step 1: Import Library**"
      ]
    },
    {
      "cell_type": "code",
      "execution_count": 1,
      "metadata": {
        "colab": {
          "base_uri": "https://localhost:8080/"
        },
        "id": "WwluX-GeuayC",
        "outputId": "a8bcc9e1-8151-43f9-cdc7-7b5054b11d3e"
      },
      "outputs": [
        {
          "output_type": "stream",
          "name": "stdout",
          "text": [
            "Collecting adversarial-robustness-toolbox\n",
            "  Downloading adversarial_robustness_toolbox-1.18.2-py3-none-any.whl.metadata (11 kB)\n",
            "Requirement already satisfied: numpy>=1.18.0 in /usr/local/lib/python3.10/dist-packages (from adversarial-robustness-toolbox) (1.26.4)\n",
            "Requirement already satisfied: scipy>=1.4.1 in /usr/local/lib/python3.10/dist-packages (from adversarial-robustness-toolbox) (1.13.1)\n",
            "Requirement already satisfied: scikit-learn>=0.22.2 in /usr/local/lib/python3.10/dist-packages (from adversarial-robustness-toolbox) (1.5.2)\n",
            "Requirement already satisfied: six in /usr/local/lib/python3.10/dist-packages (from adversarial-robustness-toolbox) (1.16.0)\n",
            "Requirement already satisfied: setuptools in /usr/local/lib/python3.10/dist-packages (from adversarial-robustness-toolbox) (75.1.0)\n",
            "Requirement already satisfied: tqdm in /usr/local/lib/python3.10/dist-packages (from adversarial-robustness-toolbox) (4.66.6)\n",
            "Requirement already satisfied: joblib>=1.2.0 in /usr/local/lib/python3.10/dist-packages (from scikit-learn>=0.22.2->adversarial-robustness-toolbox) (1.4.2)\n",
            "Requirement already satisfied: threadpoolctl>=3.1.0 in /usr/local/lib/python3.10/dist-packages (from scikit-learn>=0.22.2->adversarial-robustness-toolbox) (3.5.0)\n",
            "Downloading adversarial_robustness_toolbox-1.18.2-py3-none-any.whl (1.7 MB)\n",
            "\u001b[2K   \u001b[90m━━━━━━━━━━━━━━━━━━━━━━━━━━━━━━━━━━━━━━━━\u001b[0m \u001b[32m1.7/1.7 MB\u001b[0m \u001b[31m14.6 MB/s\u001b[0m eta \u001b[36m0:00:00\u001b[0m\n",
            "\u001b[?25hInstalling collected packages: adversarial-robustness-toolbox\n",
            "Successfully installed adversarial-robustness-toolbox-1.18.2\n"
          ]
        }
      ],
      "source": [
        "!pip install adversarial-robustness-toolbox"
      ]
    },
    {
      "cell_type": "code",
      "execution_count": 27,
      "metadata": {
        "id": "X4P_Jo8EsjUr"
      },
      "outputs": [],
      "source": [
        "import numpy as np\n",
        "import tensorflow as tf\n",
        "import matplotlib.pyplot as plt\n",
        "from tensorflow.keras.datasets import mnist\n",
        "from sklearn.metrics import accuracy_score\n",
        "from art.attacks.evasion import DeepFool\n",
        "from tensorflow.keras.models import Sequential\n",
        "from tensorflow.keras.utils import to_categorical\n",
        "from tensorflow.keras.layers import Conv2D, MaxPooling2D, Flatten, Dense\n",
        "from art.attacks.evasion import FastGradientMethod, ProjectedGradientDescent, DeepFool\n",
        "from art.estimators.classification import TensorFlowV2Classifier\n",
        "from art.defences.trainer import AdversarialTrainer\n",
        "from art.defences.preprocessor import FeatureSqueezing"
      ]
    },
    {
      "cell_type": "markdown",
      "metadata": {
        "id": "vBjBIizyzXhq"
      },
      "source": [
        "**Step 2: Load and Preprocess the Dataset**"
      ]
    },
    {
      "cell_type": "code",
      "execution_count": 3,
      "metadata": {
        "colab": {
          "base_uri": "https://localhost:8080/"
        },
        "id": "QeDs1inrsnFX",
        "outputId": "77cc2e5f-f872-4505-84bd-a4de7d9049ac"
      },
      "outputs": [
        {
          "output_type": "stream",
          "name": "stdout",
          "text": [
            "Downloading data from https://storage.googleapis.com/tensorflow/tf-keras-datasets/mnist.npz\n",
            "\u001b[1m11490434/11490434\u001b[0m \u001b[32m━━━━━━━━━━━━━━━━━━━━\u001b[0m\u001b[37m\u001b[0m \u001b[1m0s\u001b[0m 0us/step\n"
          ]
        }
      ],
      "source": [
        "# 1. Load and preprocess the dataset\n",
        "(x_train, y_train), (x_test, y_test) = mnist.load_data()\n",
        "\n",
        "# Normalize pixel values to range [0, 1]\n",
        "x_train = x_train.astype('float32') / 255.0\n",
        "x_test = x_test.astype('float32') / 255.0"
      ]
    },
    {
      "cell_type": "code",
      "execution_count": 4,
      "metadata": {
        "id": "pLeLoFZasnIM"
      },
      "outputs": [],
      "source": [
        "# Reshape data for the model input\n",
        "x_train = np.expand_dims(x_train, -1)\n",
        "x_test = np.expand_dims(x_test, -1)\n",
        "\n",
        "# One-hot encode labels\n",
        "y_train = to_categorical(y_train, 10)\n",
        "y_test = to_categorical(y_test, 10)"
      ]
    },
    {
      "cell_type": "code",
      "execution_count": 5,
      "metadata": {
        "id": "eA5YO7ZjsnKx"
      },
      "outputs": [],
      "source": [
        "# Split into training, validation, and testing sets\n",
        "x_val, y_val = x_train[-10000:], y_train[-10000:]\n",
        "x_train, y_train = x_train[:-10000], y_train[:-10000]"
      ]
    },
    {
      "cell_type": "code",
      "execution_count": 6,
      "metadata": {
        "colab": {
          "base_uri": "https://localhost:8080/",
          "height": 249
        },
        "id": "ooygoi2mxtkI",
        "outputId": "438f6a58-6b99-47d8-aaa0-c9246afe45e5"
      },
      "outputs": [
        {
          "output_type": "display_data",
          "data": {
            "text/plain": [
              "<Figure size 1000x300 with 5 Axes>"
            ],
            "image/png": "[encoded data removed]"
          },
          "metadata": {}
        }
      ],
      "source": [
        "# Visualize sample images\n",
        "fig, axes = plt.subplots(1, 5, figsize=(10, 3))\n",
        "for i in range(5):\n",
        "    axes[i].imshow(x_train[i].reshape(28, 28), cmap='gray')\n",
        "    axes[i].axis('off')\n",
        "plt.suptitle(\"Sample Images from the MNIST Dataset\")\n",
        "plt.show()"
      ]
    },
    {
      "cell_type": "markdown",
      "metadata": {
        "id": "Yv8s2fmPtFJp"
      },
      "source": [
        "**Step 3: Build and Train a CNN Model**"
      ]
    },
    {
      "cell_type": "code",
      "execution_count": 7,
      "metadata": {
        "colab": {
          "base_uri": "https://localhost:8080/"
        },
        "id": "6-i6X75osnNe",
        "outputId": "ef266983-36b6-42f5-96b1-d07eb9c48df2"
      },
      "outputs": [
        {
          "output_type": "stream",
          "name": "stderr",
          "text": [
            "/usr/local/lib/python3.10/dist-packages/keras/src/layers/convolutional/base_conv.py:107: UserWarning: Do not pass an `input_shape`/`input_dim` argument to a layer. When using Sequential models, prefer using an `Input(shape)` object as the first layer in the model instead.\n",
            "  super().__init__(activity_regularizer=activity_regularizer, **kwargs)\n"
          ]
        }
      ],
      "source": [
        "# Define the CNN model\n",
        "model = Sequential([\n",
        "    Conv2D(32, (3, 3), activation='relu', input_shape=(28, 28, 1)),\n",
        "    MaxPooling2D((2, 2)),\n",
        "    Flatten(),\n",
        "    Dense(128, activation='relu'),\n",
        "    Dense(10, activation='softmax')\n",
        "])"
      ]
    },
    {
      "cell_type": "code",
      "execution_count": 8,
      "metadata": {
        "id": "IXkjb8QisnP4"
      },
      "outputs": [],
      "source": [
        "# Compile the model\n",
        "model.compile(optimizer='adam', loss='categorical_crossentropy', metrics=['accuracy'])"
      ]
    },
    {
      "cell_type": "code",
      "execution_count": 9,
      "metadata": {
        "colab": {
          "base_uri": "https://localhost:8080/"
        },
        "id": "O-wtaGbQ1dn6",
        "outputId": "08a10468-e0c8-4a36-c14e-790592a83a8d"
      },
      "outputs": [
        {
          "output_type": "stream",
          "name": "stdout",
          "text": [
            "Epoch 1/5\n",
            "\u001b[1m782/782\u001b[0m \u001b[32m━━━━━━━━━━━━━━━━━━━━\u001b[0m\u001b[37m\u001b[0m \u001b[1m51s\u001b[0m 59ms/step - accuracy: 0.8897 - loss: 0.3909 - val_accuracy: 0.9765 - val_loss: 0.0807\n",
            "Epoch 2/5\n",
            "\u001b[1m782/782\u001b[0m \u001b[32m━━━━━━━━━━━━━━━━━━━━\u001b[0m\u001b[37m\u001b[0m \u001b[1m64s\u001b[0m 37ms/step - accuracy: 0.9795 - loss: 0.0684 - val_accuracy: 0.9831 - val_loss: 0.0641\n",
            "Epoch 3/5\n",
            "\u001b[1m782/782\u001b[0m \u001b[32m━━━━━━━━━━━━━━━━━━━━\u001b[0m\u001b[37m\u001b[0m \u001b[1m41s\u001b[0m 37ms/step - accuracy: 0.9883 - loss: 0.0388 - val_accuracy: 0.9833 - val_loss: 0.0564\n",
            "Epoch 4/5\n",
            "\u001b[1m782/782\u001b[0m \u001b[32m━━━━━━━━━━━━━━━━━━━━\u001b[0m\u001b[37m\u001b[0m \u001b[1m40s\u001b[0m 36ms/step - accuracy: 0.9916 - loss: 0.0279 - val_accuracy: 0.9825 - val_loss: 0.0567\n",
            "Epoch 5/5\n",
            "\u001b[1m782/782\u001b[0m \u001b[32m━━━━━━━━━━━━━━━━━━━━\u001b[0m\u001b[37m\u001b[0m \u001b[1m41s\u001b[0m 36ms/step - accuracy: 0.9942 - loss: 0.0185 - val_accuracy: 0.9838 - val_loss: 0.0554\n"
          ]
        }
      ],
      "source": [
        "# Train the model and save the training history\n",
        "history = model.fit(x_train, y_train, validation_data=(x_val, y_val), epochs=5, batch_size=64)"
      ]
    },
    {
      "cell_type": "code",
      "source": [
        "# Evaluate the model on clean test data\n",
        "clean_accuracy = model.evaluate(x_test, y_test, verbose=0)\n",
        "print(f\"Model accuracy on clean test data: {clean_accuracy[1]:.4f}\")"
      ],
      "metadata": {
        "colab": {
          "base_uri": "https://localhost:8080/"
        },
        "id": "J5No_1Ut8q-r",
        "outputId": "908ee743-2aa5-4c6e-9d58-2cbe8bbdebc6"
      },
      "execution_count": 10,
      "outputs": [
        {
          "output_type": "stream",
          "name": "stdout",
          "text": [
            "Model accuracy on clean test data: 0.9839\n"
          ]
        }
      ]
    },
    {
      "cell_type": "markdown",
      "metadata": {
        "id": "_1Z0JzDZ1i5m"
      },
      "source": [
        "**Step 4: Visualize Training Progress**"
      ]
    },
    {
      "cell_type": "code",
      "execution_count": 11,
      "metadata": {
        "colab": {
          "base_uri": "https://localhost:8080/",
          "height": 487
        },
        "id": "9kiMkkc3xzRs",
        "outputId": "2fdecb9d-eb77-4e3f-e36c-a27743d96942"
      },
      "outputs": [
        {
          "output_type": "display_data",
          "data": {
            "text/plain": [
              "<Figure size 1000x500 with 1 Axes>"
            ],
            "image/png": "[encoded data removed]"
          },
          "metadata": {}
        }
      ],
      "source": [
        "# Plot training and validation accuracy\n",
        "plt.figure(figsize=(10, 5))\n",
        "plt.plot(history.history['accuracy'], label='Training Accuracy')\n",
        "plt.plot(history.history['val_accuracy'], label='Validation Accuracy')\n",
        "plt.title('Model Accuracy')\n",
        "plt.xlabel('Epoch')\n",
        "plt.ylabel('Accuracy')\n",
        "plt.legend()\n",
        "plt.grid(True)\n",
        "plt.show()"
      ]
    },
    {
      "cell_type": "markdown",
      "metadata": {
        "id": "wSPFYN9w1wsO"
      },
      "source": [
        "**Step 5: Generate Adversarial Examples using FGSM and PGD**"
      ]
    },
    {
      "cell_type": "code",
      "execution_count": 12,
      "metadata": {
        "id": "7S_l-lTvsnXV"
      },
      "outputs": [],
      "source": [
        "# Create a TensorFlowV2Classifier for the ART library\n",
        "classifier = TensorFlowV2Classifier(\n",
        "    model=model,\n",
        "    nb_classes=10,\n",
        "    input_shape=(28, 28, 1),\n",
        "    loss_object=tf.keras.losses.CategoricalCrossentropy()\n",
        ")"
      ]
    },
    {
      "cell_type": "code",
      "execution_count": 13,
      "metadata": {
        "id": "Vkpimoqe12_C",
        "colab": {
          "base_uri": "https://localhost:8080/",
          "height": 17,
          "referenced_widgets": [
            "7041221597304dff872e5f9173e980f1",
            "e94a701069e44807adbd5bf73621b90c",
            "8ad83571b15d478ea7ac6552b4759231",
            "3a4ba99452aa4181a4b8846227b74260",
            "dbf266bd60494bbeb257b95add218e50",
            "59319a0dbfdd4aa0806efa853d9589e6",
            "86325c41d7e04452b9b0ff260f1ee61a",
            "d5d0c9bda4714bf7a1aac6168e198e8a",
            "c93d460758f9401fb8471ff8c185116c",
            "f0cc34f7e5ed47198df0358208602548",
            "03adff0b835241afaa935be5949dac6e"
          ]
        },
        "outputId": "d4492095-9dc7-490f-d3a8-83b89436dc02"
      },
      "outputs": [
        {
          "output_type": "display_data",
          "data": {
            "text/plain": [
              "PGD - Batches: 0it [00:00, ?it/s]"
            ],
            "application/vnd.jupyter.widget-view+json": {
              "version_major": 2,
              "version_minor": 0,
              "model_id": "7041221597304dff872e5f9173e980f1"
            }
          },
          "metadata": {}
        }
      ],
      "source": [
        "# Generate adversarial examples using FGSM\n",
        "fgsm_attack = FastGradientMethod(estimator=classifier, eps=0.1)\n",
        "x_test_adv_fgsm = fgsm_attack.generate(x=x_test)\n",
        "\n",
        "# Generate adversarial examples using PGD\n",
        "pgd_attack = ProjectedGradientDescent(estimator=classifier, eps=0.1)\n",
        "x_test_adv_pgd = pgd_attack.generate(x=x_test)"
      ]
    },
    {
      "cell_type": "code",
      "source": [
        "# Evaluate the model on adversarial examples\n",
        "fgsm_accuracy = model.evaluate(x_test_adv_fgsm, y_test, verbose=0)\n",
        "pgd_accuracy = model.evaluate(x_test_adv_pgd, y_test, verbose=0)\n",
        "print(f\"Model accuracy on FGSM adversarial data: {fgsm_accuracy[1]:.4f}\")\n",
        "print(f\"Model accuracy on PGD adversarial data: {pgd_accuracy[1]:.4f}\")"
      ],
      "metadata": {
        "colab": {
          "base_uri": "https://localhost:8080/"
        },
        "id": "am2jE2KT9Agq",
        "outputId": "799fab60-fed4-4c73-98fe-3b64e6e739b2"
      },
      "execution_count": 14,
      "outputs": [
        {
          "output_type": "stream",
          "name": "stdout",
          "text": [
            "Model accuracy on FGSM adversarial data: 0.4432\n",
            "Model accuracy on PGD adversarial data: 0.0216\n"
          ]
        }
      ]
    },
    {
      "cell_type": "markdown",
      "metadata": {
        "id": "0C-DAB1dthuA"
      },
      "source": [
        "**Step 6: Data Poisoning - Inject Adversarial Examples into Training Set**"
      ]
    },
    {
      "cell_type": "code",
      "execution_count": 15,
      "metadata": {
        "id": "P80GFHvtsnZ0"
      },
      "outputs": [],
      "source": [
        "# Generate adversarial examples from the training set using FGSM\n",
        "x_train_adv = fgsm_attack.generate(x=x_train)\n",
        "\n",
        "# Create a poisoned training set by combining original and adversarial examples\n",
        "x_train_poisoned = np.concatenate((x_train, x_train_adv))\n",
        "y_train_poisoned = np.concatenate((y_train, y_train))"
      ]
    },
    {
      "cell_type": "code",
      "source": [
        "# Retrain the model on poisoned training data\n",
        "model_poisoned = tf.keras.models.clone_model(model)\n",
        "model_poisoned.compile(optimizer='adam', loss='categorical_crossentropy', metrics=['accuracy'])\n",
        "model_poisoned.fit(x_train_poisoned, y_train_poisoned, epochs=5, batch_size=64)"
      ],
      "metadata": {
        "colab": {
          "base_uri": "https://localhost:8080/"
        },
        "id": "R5-cIuou9LOH",
        "outputId": "8ca720a2-3083-468f-d7a3-ecf27ee5f2b8"
      },
      "execution_count": null,
      "outputs": [
        {
          "output_type": "stream",
          "name": "stdout",
          "text": [
            "Epoch 1/5\n",
            "\u001b[1m1563/1563\u001b[0m \u001b[32m━━━━━━━━━━━━━━━━━━━━\u001b[0m\u001b[37m\u001b[0m \u001b[1m57s\u001b[0m 35ms/step - accuracy: 0.9276 - loss: 0.2602\n",
            "Epoch 2/5\n",
            "\u001b[1m   1/1563\u001b[0m \u001b[37m━━━━━━━━━━━━━━━━━━━━\u001b[0m \u001b[1m11:33:25\u001b[0m 27s/step - accuracy: 0.9688 - loss: 0.1440"
          ]
        }
      ]
    },
    {
      "cell_type": "code",
      "execution_count": null,
      "metadata": {
        "id": "N6193wNvsncY"
      },
      "outputs": [],
      "source": [
        "# Evaluate the model on clean and poisoned test data\n",
        "clean_accuracy_poisoned = model_poisoned.evaluate(x_test, y_test, verbose=0)\n",
        "fgsm_accuracy_poisoned = model_poisoned.evaluate(x_test_adv_fgsm, y_test, verbose=0)\n",
        "print(f\"Poisoned model accuracy on clean test data: {clean_accuracy_poisoned[1]:.4f}\")\n",
        "print(f\"Poisoned model accuracy on FGSM adversarial data: {fgsm_accuracy_poisoned[1]:.4f}\")"
      ]
    },
    {
      "cell_type": "markdown",
      "metadata": {
        "id": "PekSS8vsttmb"
      },
      "source": [
        "**Step 7: Apply Defense - Adversarial Training**"
      ]
    },
    {
      "cell_type": "code",
      "execution_count": null,
      "metadata": {
        "id": "wS10wHLLsnhU"
      },
      "outputs": [],
      "source": [
        "# Apply adversarial training as a defense mechanism\n",
        "trainer = AdversarialTrainer(classifier, attacks=[fgsm_attack], ratio=0.5)\n",
        "trainer.fit(x_train, y_train, nb_epochs=5, batch_size=64))"
      ]
    },
    {
      "cell_type": "code",
      "execution_count": 22,
      "metadata": {
        "id": "IQBayhlnsnjv"
      },
      "outputs": [],
      "source": [
        "# Evaluate the defended model on clean and adversarial data\n",
        "# Get predictions for clean, FGSM, and PGD test sets\n",
        "y_pred_clean = trainer.get_classifier().predict(x_test)\n",
        "y_pred_fgsm = trainer.get_classifier().predict(x_test_adv_fgsm)\n",
        "y_pred_pgd = trainer.get_classifier().predict(x_test_adv_pgd)"
      ]
    },
    {
      "cell_type": "code",
      "source": [
        "# Convert one-hot encoded labels back to integers\n",
        "y_test_labels = np.argmax(y_test, axis=1)"
      ],
      "metadata": {
        "id": "Xv3wG9J3SD_g"
      },
      "execution_count": 23,
      "outputs": []
    },
    {
      "cell_type": "code",
      "source": [
        "# 3. Calculate accuracy for each set\n",
        "defended_accuracy_clean = accuracy_score(y_test_labels, np.argmax(y_pred_clean, axis=1))\n",
        "defended_accuracy_fgsm = accuracy_score(y_test_labels, np.argmax(y_pred_fgsm, axis=1))\n",
        "defended_accuracy_pgd = accuracy_score(y_test_labels, np.argmax(y_pred_pgd, axis=1))\n",
        "\n",
        "print(f\"Defended model accuracy on clean test data: {defended_accuracy_clean:.4f}\")\n",
        "print(f\"Defended model accuracy on FGSM adversarial data: {defended_accuracy_fgsm:.4f}\")\n",
        "print(f\"Defended model accuracy on PGD adversarial data: {defended_accuracy_pgd:.4f}\")"
      ],
      "metadata": {
        "id": "WjyXFbJoSG1b",
        "outputId": "e9d76a1f-7904-4765-b05e-cdc058304bb8",
        "colab": {
          "base_uri": "https://localhost:8080/"
        }
      },
      "execution_count": 31,
      "outputs": [
        {
          "output_type": "stream",
          "name": "stdout",
          "text": [
            "Defended model accuracy on clean test data: 0.9839\n",
            "Defended model accuracy on FGSM adversarial data: 0.4432\n",
            "Defended model accuracy on PGD adversarial data: 0.0216\n"
          ]
        }
      ]
    },
    {
      "cell_type": "markdown",
      "metadata": {
        "id": "T7Oi7Uyet5rl"
      },
      "source": [
        "**Step 8: Evaluate the Model Using DeepFool Attack**"
      ]
    },
    {
      "cell_type": "code",
      "execution_count": 32,
      "metadata": {
        "id": "ZrcCPcUEsnl9",
        "colab": {
          "base_uri": "https://localhost:8080/",
          "height": 104,
          "referenced_widgets": [
            "3b38fae0d91e4bf6af3904d595f5c5cf",
            "c3d9c750bfe54dec805e954419599eef",
            "c9befde94d80441b957707a05d406063",
            "5cf7c7c94ae04409bac65ef4c9cf766e",
            "9b92ee1b9a254ee2bb9b4a9207f0f578",
            "23a383f7061f47b9ace9d5313aa06539",
            "b6787f071dbd401c92b2c1d483e325c5",
            "9237720e4df547f1b249dcfe3faa3f36",
            "2ba77e2e9aac4e0982e1432e0b27631d",
            "196d8420c50c4a3696cc6ef495f9cffa",
            "0233a119f0b34d168aa8bd737636dfb6"
          ]
        },
        "outputId": "64f5d231-b42a-4f27-a20f-25c5b7c88cb9"
      },
      "outputs": [
        {
          "output_type": "stream",
          "name": "stderr",
          "text": [
            "WARNING:art.attacks.evasion.deepfool:The `clip_values` attribute of the estimator is `None`, therefore this instance of DeepFool will by default generate adversarial perturbations scaled for input values in the range [0, 1] but not clip the adversarial example.\n",
            "WARNING:art.attacks.evasion.deepfool:It seems that the attacked model is predicting probabilities. DeepFool expects logits as model output to achieve its full attack strength.\n"
          ]
        },
        {
          "output_type": "display_data",
          "data": {
            "text/plain": [
              "DeepFool:   0%|          | 0/200 [00:00<?, ?it/s]"
            ],
            "application/vnd.jupyter.widget-view+json": {
              "version_major": 2,
              "version_minor": 0,
              "model_id": "3b38fae0d91e4bf6af3904d595f5c5cf"
            }
          },
          "metadata": {}
        }
      ],
      "source": [
        "# Limit the test set size for faster processing\n",
        "subset_size = 200  # Adjust the subset size to reduce computation time\n",
        "x_test_subset = x_test[:subset_size]\n",
        "y_test_subset = y_test[:subset_size]\n",
        "\n",
        "# Initialize DeepFool with fewer iterations for faster processing\n",
        "classifier = trainer.get_classifier()  # Get the classifier from the AdversarialTrainer\n",
        "deepfool_attack = DeepFool(classifier=classifier, max_iter=10)  # Reduce iterations\n",
        "\n",
        "# Generate adversarial examples using DeepFool\n",
        "x_test_adv_deepfool = deepfool_attack.generate(x=x_test_subset, batch_size=32)  # Use batch processing"
      ]
    },
    {
      "cell_type": "code",
      "source": [
        "# Get predictions for DeepFool adversarial examples\n",
        "y_pred_deepfool = classifier.predict(x_test_adv_deepfool)\n",
        "\n",
        "# Convert one-hot encoded labels back to integers\n",
        "y_test_labels = np.argmax(y_test_subset, axis=1)"
      ],
      "metadata": {
        "id": "XeGKwxiUSky5"
      },
      "execution_count": 33,
      "outputs": []
    },
    {
      "cell_type": "code",
      "source": [
        "# Calculate accuracy for DeepFool adversarial examples\n",
        "deepfool_accuracy = accuracy_score(y_test_labels, np.argmax(y_pred_deepfool, axis=1))\n",
        "print(f\"Defended model accuracy on DeepFool adversarial data (subset): {deepfool_accuracy:.4f}\")"
      ],
      "metadata": {
        "id": "3gU_LlCgSnJz",
        "outputId": "6b1fec30-25d3-4568-b5a6-bc2d28766a84",
        "colab": {
          "base_uri": "https://localhost:8080/"
        }
      },
      "execution_count": 34,
      "outputs": [
        {
          "output_type": "stream",
          "name": "stdout",
          "text": [
            "Defended model accuracy on DeepFool adversarial data (subset): 0.1500\n"
          ]
        }
      ]
    },
    {
      "cell_type": "markdown",
      "metadata": {
        "id": "Jl3lBCNvuC44"
      },
      "source": [
        "**Step 9: Visualize Clean vs Adversarial Examples**"
      ]
    },
    {
      "cell_type": "code",
      "execution_count": 35,
      "metadata": {
        "id": "XEPlDakhsnrG",
        "colab": {
          "base_uri": "https://localhost:8080/",
          "height": 411
        },
        "outputId": "d34a08ff-a6b5-4ba3-f2e9-18f0bd19225c"
      },
      "outputs": [
        {
          "output_type": "display_data",
          "data": {
            "text/plain": [
              "<Figure size 1000x500 with 2 Axes>"
            ],
            "image/png": "[encoded data removed]"
          },
          "metadata": {}
        }
      ],
      "source": [
        "# Original image\n",
        "plt.figure(figsize=(10, 5))\n",
        "plt.subplot(1, 2, 1)\n",
        "plt.title(\"Original Image\")\n",
        "plt.imshow(x_test[0].reshape(28, 28), cmap='gray')\n",
        "plt.axis('off')\n",
        "\n",
        "# Adversarial image (FGSM)\n",
        "plt.subplot(1, 2, 2)\n",
        "plt.title(\"Adversarial Image (FGSM)\")\n",
        "plt.imshow(x_test_adv_fgsm[0].reshape(28, 28), cmap='gray')\n",
        "plt.axis('off')\n",
        "plt.show()"
      ]
    },
    {
      "cell_type": "markdown",
      "source": [
        "**Step 10: Summary of Results**"
      ],
      "metadata": {
        "id": "b-iEkqom9pKE"
      }
    },
    {
      "cell_type": "code",
      "execution_count": 40,
      "metadata": {
        "id": "6dE2GdsUtqwX",
        "colab": {
          "base_uri": "https://localhost:8080/"
        },
        "outputId": "66a2a3c2-6cba-4150-da33-cfbdade26368"
      },
      "outputs": [
        {
          "output_type": "stream",
          "name": "stdout",
          "text": [
            "\n",
            "--- Final Results ---\n",
            "Clean Accuracy (Original): 0.9839\n",
            "FGSM Accuracy (Original): 0.4432\n",
            "PGD Accuracy (Original): 0.0216\n"
          ]
        }
      ],
      "source": [
        "# Print the original model's accuracy on clean and adversarial data\n",
        "print(\"\\n--- Final Results ---\")\n",
        "\n",
        "# Accuracy on clean test data using the original model\n",
        "print(f\"Clean Accuracy (Original): {clean_accuracy[1]:.4f}\")\n",
        "\n",
        "# Accuracy on FGSM adversarial examples using the original model\n",
        "print(f\"FGSM Accuracy (Original): {fgsm_accuracy[1]:.4f}\")\n",
        "\n",
        "# Accuracy on PGD adversarial examples using the original model\n",
        "print(f\"PGD Accuracy (Original): {pgd_accuracy[1]:.4f}\")"
      ]
    },
    {
      "cell_type": "code",
      "source": [
        "# Print the defended model's accuracy after applying adversarial training\n",
        "# Accuracy on clean test data using the defended model\n",
        "print(f\"Clean Accuracy (Defended): {defended_accuracy_clean:.4f}\")\n",
        "\n",
        "# Accuracy on FGSM adversarial examples using the defended model\n",
        "print(f\"FGSM Accuracy (Defended): {defended_accuracy_fgsm:.4f}\")\n",
        "\n",
        "# Accuracy on PGD adversarial examples using the defended model\n",
        "print(f\"PGD Accuracy (Defended): {defended_accuracy_pgd:.4f}\")\n",
        "\n",
        "# Accuracy on DeepFool adversarial examples using the defended model\n",
        "print(f\"DeepFool Accuracy (Defended): {deepfool_accuracy:.4f}\")"
      ],
      "metadata": {
        "id": "eA95WWlbbqxH",
        "outputId": "08aae5d4-b006-4f2d-af4a-9b895e9ef12b",
        "colab": {
          "base_uri": "https://localhost:8080/"
        }
      },
      "execution_count": 41,
      "outputs": [
        {
          "output_type": "stream",
          "name": "stdout",
          "text": [
            "Clean Accuracy (Defended): 0.9839\n",
            "FGSM Accuracy (Defended): 0.4432\n",
            "PGD Accuracy (Defended): 0.0216\n",
            "DeepFool Accuracy (Defended): 0.1500\n"
          ]
        }
      ]
    },
    {
      "cell_type": "markdown",
      "source": [
        "**Step 11: Visualizing and Summarizing Results**"
      ],
      "metadata": {
        "id": "r9fZaTyNccHz"
      }
    },
    {
      "cell_type": "code",
      "source": [
        "# Accuracy values for original and defended models\n",
        "original_accuracies = [clean_accuracy[1], fgsm_accuracy[1], pgd_accuracy[1]]\n",
        "defended_accuracies = [defended_accuracy_clean, defended_accuracy_fgsm, defended_accuracy_pgd, deepfool_accuracy]\n",
        "\n",
        "# Add placeholder for DeepFool in original model if it's not available\n",
        "if len(original_accuracies) < len(defended_accuracies):\n",
        "    original_accuracies.append(0.0)  # Add 0.0 instead of None\n",
        "\n",
        "# Replace any remaining None values with 0.0\n",
        "original_accuracies = [acc if acc is not None else 0.0 for acc in original_accuracies]\n",
        "defended_accuracies = [acc if acc is not None else 0.0 for acc in defended_accuracies]"
      ],
      "metadata": {
        "id": "cBlPB0Mdcxs9"
      },
      "execution_count": 44,
      "outputs": []
    },
    {
      "cell_type": "code",
      "source": [
        "# Labels for each set of bars\n",
        "labels = ['Clean', 'FGSM', 'PGD', 'DeepFool']\n",
        "\n",
        "# Create the bar chart\n",
        "width = 0.35\n",
        "x = range(len(labels))\n",
        "plt.figure(figsize=(10, 6))\n",
        "plt.bar(x, original_accuracies, width, label='Original Model')\n",
        "plt.bar([i + width for i in x], defended_accuracies, width, label='Defended Model')\n",
        "\n",
        "# Add labels and titles\n",
        "plt.xlabel('Dataset')\n",
        "plt.ylabel('Accuracy')\n",
        "plt.title('Model Accuracy on Clean and Adversarial Examples')\n",
        "plt.xticks([i + width / 2 for i in x], labels)\n",
        "plt.legend()\n",
        "plt.grid(True)\n",
        "plt.show()"
      ],
      "metadata": {
        "id": "jSGiJKxccJFw",
        "outputId": "d8dbd0a1-9447-4959-cc20-fe7cb5f1fa42",
        "colab": {
          "base_uri": "https://localhost:8080/",
          "height": 564
        }
      },
      "execution_count": 45,
      "outputs": [
        {
          "output_type": "display_data",
          "data": {
            "text/plain": [
              "<Figure size 1000x600 with 1 Axes>"
            ],
            "image/png": "[encoded data removed]"
          },
          "metadata": {}
        }
      ]
    },
    {
      "cell_type": "markdown",
      "source": [
        "--------------------------------------------------------------------------------"
      ],
      "metadata": {
        "id": "S7qTFb2R9z6H"
      }
    },
    {
      "cell_type": "code",
      "execution_count": null,
      "metadata": {
        "id": "KalyV2Pjtq21"
      },
      "outputs": [],
      "source": []
    }
  ],
  "metadata": {
    "colab": {
      "provenance": []
    },
    "kernelspec": {
      "display_name": "Python 3",
      "name": "python3"
    },
    "language_info": {
      "name": "python"
    },
    "widgets": {
      "application/vnd.jupyter.widget-state+json": {
        "7041221597304dff872e5f9173e980f1": {
          "model_module": "@jupyter-widgets/controls",
          "model_name": "HBoxModel",
          "model_module_version": "1.5.0",
          "state": {
            "_dom_classes": [],
            "_model_module": "@jupyter-widgets/controls",
            "_model_module_version": "1.5.0",
            "_model_name": "HBoxModel",
            "_view_count": null,
            "_view_module": "@jupyter-widgets/controls",
            "_view_module_version": "1.5.0",
            "_view_name": "HBoxView",
            "box_style": "",
            "children": [
              "IPY_MODEL_e94a701069e44807adbd5bf73621b90c",
              "IPY_MODEL_8ad83571b15d478ea7ac6552b4759231",
              "IPY_MODEL_3a4ba99452aa4181a4b8846227b74260"
            ],
            "layout": "IPY_MODEL_dbf266bd60494bbeb257b95add218e50"
          }
        },
        "e94a701069e44807adbd5bf73621b90c": {
          "model_module": "@jupyter-widgets/controls",
          "model_name": "HTMLModel",
          "model_module_version": "1.5.0",
          "state": {
            "_dom_classes": [],
            "_model_module": "@jupyter-widgets/controls",
            "_model_module_version": "1.5.0",
            "_model_name": "HTMLModel",
            "_view_count": null,
            "_view_module": "@jupyter-widgets/controls",
            "_view_module_version": "1.5.0",
            "_view_name": "HTMLView",
            "description": "",
            "description_tooltip": null,
            "layout": "IPY_MODEL_59319a0dbfdd4aa0806efa853d9589e6",
            "placeholder": "​",
            "style": "IPY_MODEL_86325c41d7e04452b9b0ff260f1ee61a",
            "value": "PGD - Batches: "
          }
        },
        "8ad83571b15d478ea7ac6552b4759231": {
          "model_module": "@jupyter-widgets/controls",
          "model_name": "FloatProgressModel",
          "model_module_version": "1.5.0",
          "state": {
            "_dom_classes": [],
            "_model_module": "@jupyter-widgets/controls",
            "_model_module_version": "1.5.0",
            "_model_name": "FloatProgressModel",
            "_view_count": null,
            "_view_module": "@jupyter-widgets/controls",
            "_view_module_version": "1.5.0",
            "_view_name": "ProgressView",
            "bar_style": "info",
            "description": "",
            "description_tooltip": null,
            "layout": "IPY_MODEL_d5d0c9bda4714bf7a1aac6168e198e8a",
            "max": 1,
            "min": 0,
            "orientation": "horizontal",
            "style": "IPY_MODEL_c93d460758f9401fb8471ff8c185116c",
            "value": 1
          }
        },
        "3a4ba99452aa4181a4b8846227b74260": {
          "model_module": "@jupyter-widgets/controls",
          "model_name": "HTMLModel",
          "model_module_version": "1.5.0",
          "state": {
            "_dom_classes": [],
            "_model_module": "@jupyter-widgets/controls",
            "_model_module_version": "1.5.0",
            "_model_name": "HTMLModel",
            "_view_count": null,
            "_view_module": "@jupyter-widgets/controls",
            "_view_module_version": "1.5.0",
            "_view_name": "HTMLView",
            "description": "",
            "description_tooltip": null,
            "layout": "IPY_MODEL_f0cc34f7e5ed47198df0358208602548",
            "placeholder": "​",
            "style": "IPY_MODEL_03adff0b835241afaa935be5949dac6e",
            "value": " 313/? [20:20&lt;00:00,  3.49s/it]"
          }
        },
        "dbf266bd60494bbeb257b95add218e50": {
          "model_module": "@jupyter-widgets/base",
          "model_name": "LayoutModel",
          "model_module_version": "1.2.0",
          "state": {
            "_model_module": "@jupyter-widgets/base",
            "_model_module_version": "1.2.0",
            "_model_name": "LayoutModel",
            "_view_count": null,
            "_view_module": "@jupyter-widgets/base",
            "_view_module_version": "1.2.0",
            "_view_name": "LayoutView",
            "align_content": null,
            "align_items": null,
            "align_self": null,
            "border": null,
            "bottom": null,
            "display": null,
            "flex": null,
            "flex_flow": null,
            "grid_area": null,
            "grid_auto_columns": null,
            "grid_auto_flow": null,
            "grid_auto_rows": null,
            "grid_column": null,
            "grid_gap": null,
            "grid_row": null,
            "grid_template_areas": null,
            "grid_template_columns": null,
            "grid_template_rows": null,
            "height": null,
            "justify_content": null,
            "justify_items": null,
            "left": null,
            "margin": null,
            "max_height": null,
            "max_width": null,
            "min_height": null,
            "min_width": null,
            "object_fit": null,
            "object_position": null,
            "order": null,
            "overflow": null,
            "overflow_x": null,
            "overflow_y": null,
            "padding": null,
            "right": null,
            "top": null,
            "visibility": "hidden",
            "width": null
          }
        },
        "59319a0dbfdd4aa0806efa853d9589e6": {
          "model_module": "@jupyter-widgets/base",
          "model_name": "LayoutModel",
          "model_module_version": "1.2.0",
          "state": {
            "_model_module": "@jupyter-widgets/base",
            "_model_module_version": "1.2.0",
            "_model_name": "LayoutModel",
            "_view_count": null,
            "_view_module": "@jupyter-widgets/base",
            "_view_module_version": "1.2.0",
            "_view_name": "LayoutView",
            "align_content": null,
            "align_items": null,
            "align_self": null,
            "border": null,
            "bottom": null,
            "display": null,
            "flex": null,
            "flex_flow": null,
            "grid_area": null,
            "grid_auto_columns": null,
            "grid_auto_flow": null,
            "grid_auto_rows": null,
            "grid_column": null,
            "grid_gap": null,
            "grid_row": null,
            "grid_template_areas": null,
            "grid_template_columns": null,
            "grid_template_rows": null,
            "height": null,
            "justify_content": null,
            "justify_items": null,
            "left": null,
            "margin": null,
            "max_height": null,
            "max_width": null,
            "min_height": null,
            "min_width": null,
            "object_fit": null,
            "object_position": null,
            "order": null,
            "overflow": null,
            "overflow_x": null,
            "overflow_y": null,
            "padding": null,
            "right": null,
            "top": null,
            "visibility": null,
            "width": null
          }
        },
        "86325c41d7e04452b9b0ff260f1ee61a": {
          "model_module": "@jupyter-widgets/controls",
          "model_name": "DescriptionStyleModel",
          "model_module_version": "1.5.0",
          "state": {
            "_model_module": "@jupyter-widgets/controls",
            "_model_module_version": "1.5.0",
            "_model_name": "DescriptionStyleModel",
            "_view_count": null,
            "_view_module": "@jupyter-widgets/base",
            "_view_module_version": "1.2.0",
            "_view_name": "StyleView",
            "description_width": ""
          }
        },
        "d5d0c9bda4714bf7a1aac6168e198e8a": {
          "model_module": "@jupyter-widgets/base",
          "model_name": "LayoutModel",
          "model_module_version": "1.2.0",
          "state": {
            "_model_module": "@jupyter-widgets/base",
            "_model_module_version": "1.2.0",
            "_model_name": "LayoutModel",
            "_view_count": null,
            "_view_module": "@jupyter-widgets/base",
            "_view_module_version": "1.2.0",
            "_view_name": "LayoutView",
            "align_content": null,
            "align_items": null,
            "align_self": null,
            "border": null,
            "bottom": null,
            "display": null,
            "flex": null,
            "flex_flow": null,
            "grid_area": null,
            "grid_auto_columns": null,
            "grid_auto_flow": null,
            "grid_auto_rows": null,
            "grid_column": null,
            "grid_gap": null,
            "grid_row": null,
            "grid_template_areas": null,
            "grid_template_columns": null,
            "grid_template_rows": null,
            "height": null,
            "justify_content": null,
            "justify_items": null,
            "left": null,
            "margin": null,
            "max_height": null,
            "max_width": null,
            "min_height": null,
            "min_width": null,
            "object_fit": null,
            "object_position": null,
            "order": null,
            "overflow": null,
            "overflow_x": null,
            "overflow_y": null,
            "padding": null,
            "right": null,
            "top": null,
            "visibility": null,
            "width": "20px"
          }
        },
        "c93d460758f9401fb8471ff8c185116c": {
          "model_module": "@jupyter-widgets/controls",
          "model_name": "ProgressStyleModel",
          "model_module_version": "1.5.0",
          "state": {
            "_model_module": "@jupyter-widgets/controls",
            "_model_module_version": "1.5.0",
            "_model_name": "ProgressStyleModel",
            "_view_count": null,
            "_view_module": "@jupyter-widgets/base",
            "_view_module_version": "1.2.0",
            "_view_name": "StyleView",
            "bar_color": null,
            "description_width": ""
          }
        },
        "f0cc34f7e5ed47198df0358208602548": {
          "model_module": "@jupyter-widgets/base",
          "model_name": "LayoutModel",
          "model_module_version": "1.2.0",
          "state": {
            "_model_module": "@jupyter-widgets/base",
            "_model_module_version": "1.2.0",
            "_model_name": "LayoutModel",
            "_view_count": null,
            "_view_module": "@jupyter-widgets/base",
            "_view_module_version": "1.2.0",
            "_view_name": "LayoutView",
            "align_content": null,
            "align_items": null,
            "align_self": null,
            "border": null,
            "bottom": null,
            "display": null,
            "flex": null,
            "flex_flow": null,
            "grid_area": null,
            "grid_auto_columns": null,
            "grid_auto_flow": null,
            "grid_auto_rows": null,
            "grid_column": null,
            "grid_gap": null,
            "grid_row": null,
            "grid_template_areas": null,
            "grid_template_columns": null,
            "grid_template_rows": null,
            "height": null,
            "justify_content": null,
            "justify_items": null,
            "left": null,
            "margin": null,
            "max_height": null,
            "max_width": null,
            "min_height": null,
            "min_width": null,
            "object_fit": null,
            "object_position": null,
            "order": null,
            "overflow": null,
            "overflow_x": null,
            "overflow_y": null,
            "padding": null,
            "right": null,
            "top": null,
            "visibility": null,
            "width": null
          }
        },
        "03adff0b835241afaa935be5949dac6e": {
          "model_module": "@jupyter-widgets/controls",
          "model_name": "DescriptionStyleModel",
          "model_module_version": "1.5.0",
          "state": {
            "_model_module": "@jupyter-widgets/controls",
            "_model_module_version": "1.5.0",
            "_model_name": "DescriptionStyleModel",
            "_view_count": null,
            "_view_module": "@jupyter-widgets/base",
            "_view_module_version": "1.2.0",
            "_view_name": "StyleView",
            "description_width": ""
          }
        },
        "3b38fae0d91e4bf6af3904d595f5c5cf": {
          "model_module": "@jupyter-widgets/controls",
          "model_name": "HBoxModel",
          "model_module_version": "1.5.0",
          "state": {
            "_dom_classes": [],
            "_model_module": "@jupyter-widgets/controls",
            "_model_module_version": "1.5.0",
            "_model_name": "HBoxModel",
            "_view_count": null,
            "_view_module": "@jupyter-widgets/controls",
            "_view_module_version": "1.5.0",
            "_view_name": "HBoxView",
            "box_style": "",
            "children": [
              "IPY_MODEL_c3d9c750bfe54dec805e954419599eef",
              "IPY_MODEL_c9befde94d80441b957707a05d406063",
              "IPY_MODEL_5cf7c7c94ae04409bac65ef4c9cf766e"
            ],
            "layout": "IPY_MODEL_9b92ee1b9a254ee2bb9b4a9207f0f578"
          }
        },
        "c3d9c750bfe54dec805e954419599eef": {
          "model_module": "@jupyter-widgets/controls",
          "model_name": "HTMLModel",
          "model_module_version": "1.5.0",
          "state": {
            "_dom_classes": [],
            "_model_module": "@jupyter-widgets/controls",
            "_model_module_version": "1.5.0",
            "_model_name": "HTMLModel",
            "_view_count": null,
            "_view_module": "@jupyter-widgets/controls",
            "_view_module_version": "1.5.0",
            "_view_name": "HTMLView",
            "description": "",
            "description_tooltip": null,
            "layout": "IPY_MODEL_23a383f7061f47b9ace9d5313aa06539",
            "placeholder": "​",
            "style": "IPY_MODEL_b6787f071dbd401c92b2c1d483e325c5",
            "value": "DeepFool: 100%"
          }
        },
        "c9befde94d80441b957707a05d406063": {
          "model_module": "@jupyter-widgets/controls",
          "model_name": "FloatProgressModel",
          "model_module_version": "1.5.0",
          "state": {
            "_dom_classes": [],
            "_model_module": "@jupyter-widgets/controls",
            "_model_module_version": "1.5.0",
            "_model_name": "FloatProgressModel",
            "_view_count": null,
            "_view_module": "@jupyter-widgets/controls",
            "_view_module_version": "1.5.0",
            "_view_name": "ProgressView",
            "bar_style": "success",
            "description": "",
            "description_tooltip": null,
            "layout": "IPY_MODEL_9237720e4df547f1b249dcfe3faa3f36",
            "max": 200,
            "min": 0,
            "orientation": "horizontal",
            "style": "IPY_MODEL_2ba77e2e9aac4e0982e1432e0b27631d",
            "value": 200
          }
        },
        "5cf7c7c94ae04409bac65ef4c9cf766e": {
          "model_module": "@jupyter-widgets/controls",
          "model_name": "HTMLModel",
          "model_module_version": "1.5.0",
          "state": {
            "_dom_classes": [],
            "_model_module": "@jupyter-widgets/controls",
            "_model_module_version": "1.5.0",
            "_model_name": "HTMLModel",
            "_view_count": null,
            "_view_module": "@jupyter-widgets/controls",
            "_view_module_version": "1.5.0",
            "_view_name": "HTMLView",
            "description": "",
            "description_tooltip": null,
            "layout": "IPY_MODEL_196d8420c50c4a3696cc6ef495f9cffa",
            "placeholder": "​",
            "style": "IPY_MODEL_0233a119f0b34d168aa8bd737636dfb6",
            "value": " 200/200 [01:42&lt;00:00,  2.84it/s]"
          }
        },
        "9b92ee1b9a254ee2bb9b4a9207f0f578": {
          "model_module": "@jupyter-widgets/base",
          "model_name": "LayoutModel",
          "model_module_version": "1.2.0",
          "state": {
            "_model_module": "@jupyter-widgets/base",
            "_model_module_version": "1.2.0",
            "_model_name": "LayoutModel",
            "_view_count": null,
            "_view_module": "@jupyter-widgets/base",
            "_view_module_version": "1.2.0",
            "_view_name": "LayoutView",
            "align_content": null,
            "align_items": null,
            "align_self": null,
            "border": null,
            "bottom": null,
            "display": null,
            "flex": null,
            "flex_flow": null,
            "grid_area": null,
            "grid_auto_columns": null,
            "grid_auto_flow": null,
            "grid_auto_rows": null,
            "grid_column": null,
            "grid_gap": null,
            "grid_row": null,
            "grid_template_areas": null,
            "grid_template_columns": null,
            "grid_template_rows": null,
            "height": null,
            "justify_content": null,
            "justify_items": null,
            "left": null,
            "margin": null,
            "max_height": null,
            "max_width": null,
            "min_height": null,
            "min_width": null,
            "object_fit": null,
            "object_position": null,
            "order": null,
            "overflow": null,
            "overflow_x": null,
            "overflow_y": null,
            "padding": null,
            "right": null,
            "top": null,
            "visibility": null,
            "width": null
          }
        },
        "23a383f7061f47b9ace9d5313aa06539": {
          "model_module": "@jupyter-widgets/base",
          "model_name": "LayoutModel",
          "model_module_version": "1.2.0",
          "state": {
            "_model_module": "@jupyter-widgets/base",
            "_model_module_version": "1.2.0",
            "_model_name": "LayoutModel",
            "_view_count": null,
            "_view_module": "@jupyter-widgets/base",
            "_view_module_version": "1.2.0",
            "_view_name": "LayoutView",
            "align_content": null,
            "align_items": null,
            "align_self": null,
            "border": null,
            "bottom": null,
            "display": null,
            "flex": null,
            "flex_flow": null,
            "grid_area": null,
            "grid_auto_columns": null,
            "grid_auto_flow": null,
            "grid_auto_rows": null,
            "grid_column": null,
            "grid_gap": null,
            "grid_row": null,
            "grid_template_areas": null,
            "grid_template_columns": null,
            "grid_template_rows": null,
            "height": null,
            "justify_content": null,
            "justify_items": null,
            "left": null,
            "margin": null,
            "max_height": null,
            "max_width": null,
            "min_height": null,
            "min_width": null,
            "object_fit": null,
            "object_position": null,
            "order": null,
            "overflow": null,
            "overflow_x": null,
            "overflow_y": null,
            "padding": null,
            "right": null,
            "top": null,
            "visibility": null,
            "width": null
          }
        },
        "b6787f071dbd401c92b2c1d483e325c5": {
          "model_module": "@jupyter-widgets/controls",
          "model_name": "DescriptionStyleModel",
          "model_module_version": "1.5.0",
          "state": {
            "_model_module": "@jupyter-widgets/controls",
            "_model_module_version": "1.5.0",
            "_model_name": "DescriptionStyleModel",
            "_view_count": null,
            "_view_module": "@jupyter-widgets/base",
            "_view_module_version": "1.2.0",
            "_view_name": "StyleView",
            "description_width": ""
          }
        },
        "9237720e4df547f1b249dcfe3faa3f36": {
          "model_module": "@jupyter-widgets/base",
          "model_name": "LayoutModel",
          "model_module_version": "1.2.0",
          "state": {
            "_model_module": "@jupyter-widgets/base",
            "_model_module_version": "1.2.0",
            "_model_name": "LayoutModel",
            "_view_count": null,
            "_view_module": "@jupyter-widgets/base",
            "_view_module_version": "1.2.0",
            "_view_name": "LayoutView",
            "align_content": null,
            "align_items": null,
            "align_self": null,
            "border": null,
            "bottom": null,
            "display": null,
            "flex": null,
            "flex_flow": null,
            "grid_area": null,
            "grid_auto_columns": null,
            "grid_auto_flow": null,
            "grid_auto_rows": null,
            "grid_column": null,
            "grid_gap": null,
            "grid_row": null,
            "grid_template_areas": null,
            "grid_template_columns": null,
            "grid_template_rows": null,
            "height": null,
            "justify_content": null,
            "justify_items": null,
            "left": null,
            "margin": null,
            "max_height": null,
            "max_width": null,
            "min_height": null,
            "min_width": null,
            "object_fit": null,
            "object_position": null,
            "order": null,
            "overflow": null,
            "overflow_x": null,
            "overflow_y": null,
            "padding": null,
            "right": null,
            "top": null,
            "visibility": null,
            "width": null
          }
        },
        "2ba77e2e9aac4e0982e1432e0b27631d": {
          "model_module": "@jupyter-widgets/controls",
          "model_name": "ProgressStyleModel",
          "model_module_version": "1.5.0",
          "state": {
            "_model_module": "@jupyter-widgets/controls",
            "_model_module_version": "1.5.0",
            "_model_name": "ProgressStyleModel",
            "_view_count": null,
            "_view_module": "@jupyter-widgets/base",
            "_view_module_version": "1.2.0",
            "_view_name": "StyleView",
            "bar_color": null,
            "description_width": ""
          }
        },
        "196d8420c50c4a3696cc6ef495f9cffa": {
          "model_module": "@jupyter-widgets/base",
          "model_name": "LayoutModel",
          "model_module_version": "1.2.0",
          "state": {
            "_model_module": "@jupyter-widgets/base",
            "_model_module_version": "1.2.0",
            "_model_name": "LayoutModel",
            "_view_count": null,
            "_view_module": "@jupyter-widgets/base",
            "_view_module_version": "1.2.0",
            "_view_name": "LayoutView",
            "align_content": null,
            "align_items": null,
            "align_self": null,
            "border": null,
            "bottom": null,
            "display": null,
            "flex": null,
            "flex_flow": null,
            "grid_area": null,
            "grid_auto_columns": null,
            "grid_auto_flow": null,
            "grid_auto_rows": null,
            "grid_column": null,
            "grid_gap": null,
            "grid_row": null,
            "grid_template_areas": null,
            "grid_template_columns": null,
            "grid_template_rows": null,
            "height": null,
            "justify_content": null,
            "justify_items": null,
            "left": null,
            "margin": null,
            "max_height": null,
            "max_width": null,
            "min_height": null,
            "min_width": null,
            "object_fit": null,
            "object_position": null,
            "order": null,
            "overflow": null,
            "overflow_x": null,
            "overflow_y": null,
            "padding": null,
            "right": null,
            "top": null,
            "visibility": null,
            "width": null
          }
        },
        "0233a119f0b34d168aa8bd737636dfb6": {
          "model_module": "@jupyter-widgets/controls",
          "model_name": "DescriptionStyleModel",
          "model_module_version": "1.5.0",
          "state": {
            "_model_module": "@jupyter-widgets/controls",
            "_model_module_version": "1.5.0",
            "_model_name": "DescriptionStyleModel",
            "_view_count": null,
            "_view_module": "@jupyter-widgets/base",
            "_view_module_version": "1.2.0",
            "_view_name": "StyleView",
            "description_width": ""
          }
        }
      }
    }
  },
  "nbformat": 4,
  "nbformat_minor": 0
}